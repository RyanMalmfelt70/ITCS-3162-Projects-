{
 "cells": [
  {
   "cell_type": "code",
   "execution_count": 174,
   "metadata": {},
   "outputs": [
    {
     "name": "stdout",
     "output_type": "stream",
     "text": [
      "Requirement already satisfied: pandas in c:\\users\\malmf\\downloads\\anaconda\\lib\\site-packages (2.2.2)\n",
      "Requirement already satisfied: numpy>=1.26.0 in c:\\users\\malmf\\downloads\\anaconda\\lib\\site-packages (from pandas) (1.26.4)\n",
      "Requirement already satisfied: python-dateutil>=2.8.2 in c:\\users\\malmf\\downloads\\anaconda\\lib\\site-packages (from pandas) (2.9.0.post0)\n",
      "Requirement already satisfied: pytz>=2020.1 in c:\\users\\malmf\\downloads\\anaconda\\lib\\site-packages (from pandas) (2024.1)\n",
      "Requirement already satisfied: tzdata>=2022.7 in c:\\users\\malmf\\downloads\\anaconda\\lib\\site-packages (from pandas) (2023.3)\n",
      "Requirement already satisfied: six>=1.5 in c:\\users\\malmf\\downloads\\anaconda\\lib\\site-packages (from python-dateutil>=2.8.2->pandas) (1.16.0)\n",
      "Requirement already satisfied: plotly in c:\\users\\malmf\\downloads\\anaconda\\lib\\site-packages (5.22.0)\n",
      "Requirement already satisfied: tenacity>=6.2.0 in c:\\users\\malmf\\downloads\\anaconda\\lib\\site-packages (from plotly) (8.2.2)\n",
      "Requirement already satisfied: packaging in c:\\users\\malmf\\downloads\\anaconda\\lib\\site-packages (from plotly) (23.2)\n"
     ]
    }
   ],
   "source": [
    "!pip install pandas\n",
    "!pip install plotly"
   ]
  },
  {
   "cell_type": "markdown",
   "metadata": {},
   "source": [
    "INTRODUCTION:\n",
    "\n",
    "In the past few years, Major League Baseball has begun to look at more advanced statistics in the game. One of those statistics is exit velocity. Exit velocity measures the speed of the baseball as it comes off the bat, immediately after a batter makes contact. This stat is tracked for every batted ball. Achieving a high exit velocity is one of a hitter’s primary goals. A hard-hit ball may result in an out, but the defense will have less time to react, so the batter’s chance of reaching base will always be higher. The overall problem that I will be looking at are the different comparisons and correlations between certain features of the dataset. Using this dataset I will try and solve problems related to exit velocity. Questions I plan to lean into and answer are something like this; Does a higher average exit velocity lead to a higher or lower launch angle off the bat? Piggybacking off of that question I will look if having a higher launch angle leads to farther home runs.  I plan to also focus primarily on 2021-2022 data and compare those years to see if exit velocity had increased between those years.\n",
    "\n",
    "\n",
    "\n",
    "\n",
    "INTRODUCING THE DATA:\n",
    "\n",
    "The dataset that I decided to use comes from the Kaggle website and it contains Major League Baseball batting exit velocity data from 2015–2022. It has around 2,000 rows of data and exactly 20 columns of different features. Some of the more important features that I will be focusing on are the players, average_ev, which is average exit velocity, launch_angle, which is the angle that which the ball comes off the bat, and average_homerun, which is how far the average home run ball is for the players of this dataset. Using this dataset I hope to answer the questions that I asked above.\n",
    "\n",
    "\n",
    "\n",
    "DATA PREPROCESSING:\n",
    "\n",
    "I began my data preprocessing by making sure the usability of the dataset I chose was high. I wanted to check the usability of the dataset because if the usability of the dataset is low, then how are you gonna know if you're going to get good and accurate results?   The usability of the dataset I pulled from Kaggle was 9.71/10; so the dataset is very well functional and good to use for the problems that I intend to answer. Next, I wanted to make sure that I was able to pull the CSV file and copy it into my notebook in order to have all the features that the file included. This step is needed to make sure you have the correct data in order to answer your questions. Another step that I chose to take was to look for null values in the dataset. It is important to check for null values because having null values means that your dataset has unknown values and could mix up your potential results. After checking the dataset, I determined that it consisted of nine null values in the average_homerun feature. Then in order to answer the specific questions that I wanted too, I separated the columns that I needed. I felt that this was paramount because having data that you do not need can mess up the results you want to look for. I selected the columns player, year, average_ev, launch_angle, and average_homerun because those were the main features that I plan to focus on. Then I selected the first 480 rows because those consisted of data from the years 2021-2022. I did this because I plan to center all of my visualizations on these years and compare them to see trends in exit velocity.\n",
    "\n",
    "\n"
   ]
  },
  {
   "cell_type": "code",
   "execution_count": 96,
   "metadata": {},
   "outputs": [],
   "source": [
    "import pandas as pd\n",
    "import matplotlib.pyplot as plt\n",
    "import plotly.express as px\n",
    "import seaborn as sns"
   ]
  },
  {
   "cell_type": "code",
   "execution_count": 9,
   "metadata": {},
   "outputs": [
    {
     "name": "stdout",
     "output_type": "stream",
     "text": [
      "        id  rank  year               player  batted_ball_events  launch_angle  \\\n",
      "0        1     1  2022         Judge, Aaron                 341          14.6   \n",
      "1        2     2  2022      Alvarez, Yordan                 304          12.1   \n",
      "2        3     3  2022          Trout, Mike                 234          24.7   \n",
      "3        4     4  2022      Schwarber, Kyle                 312          18.9   \n",
      "4        5     5  2022   Stanton, Giancarlo                 228          10.2   \n",
      "...    ...   ...   ...                  ...                 ...           ...   \n",
      "1978  1979   246  2015         Peña, Brayan                 302           8.0   \n",
      "1979  1980   247  2015          Reyes, José                 431          13.3   \n",
      "1980  1981   248  2015         Sogard, Eric                 326          11.6   \n",
      "1981  1982   249  2015          Revere, Ben                 536           5.1   \n",
      "1982  1983   250  2015       Iglesias, José                 379           4.5   \n",
      "\n",
      "      sweet_spot_percentage  max_ev  average_ev  fly_ball_line_drive_ev  \\\n",
      "0                      37.8   118.4        95.8                   100.2   \n",
      "1                      40.1   117.4        95.5                    98.2   \n",
      "2                      37.2   114.4        91.7                    94.9   \n",
      "3                      34.6   114.8        93.3                    99.7   \n",
      "4                      26.3   119.8        94.6                    98.2   \n",
      "...                     ...     ...         ...                     ...   \n",
      "1978                   24.8   104.9        85.6                    86.9   \n",
      "1979                   28.1   108.4        84.6                    86.0   \n",
      "1980                   32.2   107.5        85.5                    86.5   \n",
      "1981                   34.9   111.4        83.1                    86.0   \n",
      "1982                   26.1   108.6        83.7                    87.0   \n",
      "\n",
      "      ground_ball_ev  max_distance  average_distance  average_homerun  \\\n",
      "0               89.1           465               205            413.0   \n",
      "1               92.7           469               193            403.0   \n",
      "2               87.7           472               218            407.0   \n",
      "3               87.2           468               197            415.0   \n",
      "4               94.1           445               160            400.0   \n",
      "...              ...           ...               ...              ...   \n",
      "1978            85.8           378               137              NaN   \n",
      "1979            85.9           419               151            386.0   \n",
      "1980            85.9           410               155            410.0   \n",
      "1981            81.3           389               133            367.0   \n",
      "1982            83.1           377               135            366.0   \n",
      "\n",
      "      hard_hit_95mph+  hard_hit_percentage  hard_hit_swing_percentage  \\\n",
      "0                 210                 61.6                       20.3   \n",
      "1                 186                 61.2                       23.7   \n",
      "2                 120                 51.3                       16.5   \n",
      "3                 170                 54.5                       17.6   \n",
      "4                 117                 51.3                       17.8   \n",
      "...               ...                  ...                        ...   \n",
      "1978               52                 17.2                        8.9   \n",
      "1979               80                 18.6                        8.8   \n",
      "1980               61                 18.7                       10.1   \n",
      "1981               78                 14.6                        8.2   \n",
      "1982               71                 18.7                        9.1   \n",
      "\n",
      "      total_barrels  barrels_batted_balls_percentage  \\\n",
      "0                91                             26.7   \n",
      "1                59                             19.4   \n",
      "2                46                             19.7   \n",
      "3                64                             20.5   \n",
      "4                42                             18.4   \n",
      "...             ...                              ...   \n",
      "1978              1                              0.3   \n",
      "1979              1                              0.2   \n",
      "1980              1                              0.3   \n",
      "1981              0                              0.0   \n",
      "1982              0                              0.0   \n",
      "\n",
      "      barrels_plate_appearance_percentage  \n",
      "0                                    15.8  \n",
      "1                                    12.7  \n",
      "2                                    11.6  \n",
      "3                                    11.5  \n",
      "4                                    11.3  \n",
      "...                                   ...  \n",
      "1978                                  0.3  \n",
      "1979                                  0.2  \n",
      "1980                                  0.2  \n",
      "1981                                  0.0  \n",
      "1982                                  0.0  \n",
      "\n",
      "[1983 rows x 20 columns]\n",
      "   id  rank  year               player  batted_ball_events  launch_angle  \\\n",
      "0   1     1  2022         Judge, Aaron                 341          14.6   \n",
      "1   2     2  2022      Alvarez, Yordan                 304          12.1   \n",
      "2   3     3  2022          Trout, Mike                 234          24.7   \n",
      "3   4     4  2022      Schwarber, Kyle                 312          18.9   \n",
      "4   5     5  2022   Stanton, Giancarlo                 228          10.2   \n",
      "5   6     6  2022       Ohtani, Shohei                 354          12.6   \n",
      "6   7     7  2022        Riley, Austin                 386          13.9   \n",
      "7   8     8  2022        Pederson, Joc                 241          14.6   \n",
      "8   9     9  2022        Buxton, Byron                 225          21.4   \n",
      "9  10    10  2022    Mountcastle, Ryan                 350          15.7   \n",
      "\n",
      "   sweet_spot_percentage  max_ev  average_ev  fly_ball_line_drive_ev  \\\n",
      "0                   37.8   118.4        95.8                   100.2   \n",
      "1                   40.1   117.4        95.5                    98.2   \n",
      "2                   37.2   114.4        91.7                    94.9   \n",
      "3                   34.6   114.8        93.3                    99.7   \n",
      "4                   26.3   119.8        94.6                    98.2   \n",
      "5                   34.7   119.1        92.6                    97.2   \n",
      "6                   39.1   115.9        92.8                    97.7   \n",
      "7                   34.0   112.8        93.3                    96.4   \n",
      "8                   34.2   113.5        92.9                    97.4   \n",
      "9                   38.6   112.0        91.1                    94.4   \n",
      "\n",
      "   ground_ball_ev  max_distance  average_distance  average_homerun  \\\n",
      "0            89.1           465               205            413.0   \n",
      "1            92.7           469               193            403.0   \n",
      "2            87.7           472               218            407.0   \n",
      "3            87.2           468               197            415.0   \n",
      "4            94.1           445               160            400.0   \n",
      "5            87.7           462               180            408.0   \n",
      "6            87.5           441               190            411.0   \n",
      "7            91.2           441               191            410.0   \n",
      "8            88.3           469               194            410.0   \n",
      "9            87.8           437               186            408.0   \n",
      "\n",
      "   hard_hit_95mph+  hard_hit_percentage  hard_hit_swing_percentage  \\\n",
      "0              210                 61.6                       20.3   \n",
      "1              186                 61.2                       23.7   \n",
      "2              120                 51.3                       16.5   \n",
      "3              170                 54.5                       17.6   \n",
      "4              117                 51.3                       17.8   \n",
      "5              168                 47.5                       16.2   \n",
      "6              202                 52.3                       17.4   \n",
      "7              130                 54.2                       20.0   \n",
      "8              113                 50.2                       15.8   \n",
      "9              161                 46.0                       14.3   \n",
      "\n",
      "   total_barrels  barrels_batted_balls_percentage  \\\n",
      "0             91                             26.7   \n",
      "1             59                             19.4   \n",
      "2             46                             19.7   \n",
      "3             64                             20.5   \n",
      "4             42                             18.4   \n",
      "5             62                             17.5   \n",
      "6             64                             16.6   \n",
      "7             38                             15.8   \n",
      "8             37                             16.4   \n",
      "9             49                             14.0   \n",
      "\n",
      "   barrels_plate_appearance_percentage  \n",
      "0                                 15.8  \n",
      "1                                 12.7  \n",
      "2                                 11.6  \n",
      "3                                 11.5  \n",
      "4                                 11.3  \n",
      "5                                 11.1  \n",
      "6                                 10.9  \n",
      "7                                 10.6  \n",
      "8                                  9.7  \n",
      "9                                  9.6  \n"
     ]
    }
   ],
   "source": [
    "exit_velocity = pd.read_csv(r'C:\\Users\\malmf\\AppData\\Local\\Temp\\46afda31-1742-4728-8ca8-546b29f46b95_archive (1).zip.b95\\mlb-batter-exit-velocity.csv')\n",
    "print(exit_velocity)\n",
    "\n",
    "first_ten_rows = exit_velocity.head(10)\n",
    "\n",
    "print(first_ten_rows)"
   ]
  },
  {
   "cell_type": "code",
   "execution_count": 46,
   "metadata": {},
   "outputs": [
    {
     "data": {
      "text/plain": [
       "Index(['id', 'rank', 'year', 'player', 'batted_ball_events', 'launch_angle',\n",
       "       'sweet_spot_percentage', 'max_ev', 'average_ev',\n",
       "       'fly_ball_line_drive_ev', 'ground_ball_ev', 'max_distance',\n",
       "       'average_distance', 'average_homerun', 'hard_hit_95mph+',\n",
       "       'hard_hit_percentage', 'hard_hit_swing_percentage', 'total_barrels',\n",
       "       'barrels_batted_balls_percentage',\n",
       "       'barrels_plate_appearance_percentage'],\n",
       "      dtype='object')"
      ]
     },
     "execution_count": 46,
     "metadata": {},
     "output_type": "execute_result"
    }
   ],
   "source": [
    "exit_velocity.columns"
   ]
  },
  {
   "cell_type": "code",
   "execution_count": 47,
   "metadata": {},
   "outputs": [
    {
     "data": {
      "text/plain": [
       "(1983, 20)"
      ]
     },
     "execution_count": 47,
     "metadata": {},
     "output_type": "execute_result"
    }
   ],
   "source": [
    "exit_velocity.shape"
   ]
  },
  {
   "cell_type": "code",
   "execution_count": 48,
   "metadata": {},
   "outputs": [
    {
     "data": {
      "text/plain": [
       "id                                       int64\n",
       "rank                                     int64\n",
       "year                                     int64\n",
       "player                                  object\n",
       "batted_ball_events                       int64\n",
       "launch_angle                           float64\n",
       "sweet_spot_percentage                  float64\n",
       "max_ev                                 float64\n",
       "average_ev                             float64\n",
       "fly_ball_line_drive_ev                 float64\n",
       "ground_ball_ev                         float64\n",
       "max_distance                             int64\n",
       "average_distance                         int64\n",
       "average_homerun                        float64\n",
       "hard_hit_95mph+                          int64\n",
       "hard_hit_percentage                    float64\n",
       "hard_hit_swing_percentage              float64\n",
       "total_barrels                            int64\n",
       "barrels_batted_balls_percentage        float64\n",
       "barrels_plate_appearance_percentage    float64\n",
       "dtype: object"
      ]
     },
     "execution_count": 48,
     "metadata": {},
     "output_type": "execute_result"
    }
   ],
   "source": [
    "exit_velocity.dtypes"
   ]
  },
  {
   "cell_type": "code",
   "execution_count": 49,
   "metadata": {},
   "outputs": [
    {
     "data": {
      "text/plain": [
       "RangeIndex(start=0, stop=1983, step=1)"
      ]
     },
     "execution_count": 49,
     "metadata": {},
     "output_type": "execute_result"
    }
   ],
   "source": [
    "exit_velocity.index"
   ]
  },
  {
   "cell_type": "code",
   "execution_count": 51,
   "metadata": {},
   "outputs": [
    {
     "data": {
      "text/html": [
       "<div>\n",
       "<style scoped>\n",
       "    .dataframe tbody tr th:only-of-type {\n",
       "        vertical-align: middle;\n",
       "    }\n",
       "\n",
       "    .dataframe tbody tr th {\n",
       "        vertical-align: top;\n",
       "    }\n",
       "\n",
       "    .dataframe thead th {\n",
       "        text-align: right;\n",
       "    }\n",
       "</style>\n",
       "<table border=\"1\" class=\"dataframe\">\n",
       "  <thead>\n",
       "    <tr style=\"text-align: right;\">\n",
       "      <th></th>\n",
       "      <th>id</th>\n",
       "      <th>rank</th>\n",
       "      <th>year</th>\n",
       "      <th>batted_ball_events</th>\n",
       "      <th>launch_angle</th>\n",
       "      <th>sweet_spot_percentage</th>\n",
       "      <th>max_ev</th>\n",
       "      <th>average_ev</th>\n",
       "      <th>fly_ball_line_drive_ev</th>\n",
       "      <th>ground_ball_ev</th>\n",
       "      <th>max_distance</th>\n",
       "      <th>average_distance</th>\n",
       "      <th>average_homerun</th>\n",
       "      <th>hard_hit_95mph+</th>\n",
       "      <th>hard_hit_percentage</th>\n",
       "      <th>hard_hit_swing_percentage</th>\n",
       "      <th>total_barrels</th>\n",
       "      <th>barrels_batted_balls_percentage</th>\n",
       "      <th>barrels_plate_appearance_percentage</th>\n",
       "    </tr>\n",
       "  </thead>\n",
       "  <tbody>\n",
       "    <tr>\n",
       "      <th>count</th>\n",
       "      <td>1983.000000</td>\n",
       "      <td>1983.000000</td>\n",
       "      <td>1983.000000</td>\n",
       "      <td>1983.000000</td>\n",
       "      <td>1983.000000</td>\n",
       "      <td>1983.000000</td>\n",
       "      <td>1983.000000</td>\n",
       "      <td>1983.000000</td>\n",
       "      <td>1983.000000</td>\n",
       "      <td>1983.000000</td>\n",
       "      <td>1983.000000</td>\n",
       "      <td>1983.000000</td>\n",
       "      <td>1974.000000</td>\n",
       "      <td>1983.000000</td>\n",
       "      <td>1983.000000</td>\n",
       "      <td>1983.000000</td>\n",
       "      <td>1983.000000</td>\n",
       "      <td>1983.000000</td>\n",
       "      <td>1983.000000</td>\n",
       "    </tr>\n",
       "    <tr>\n",
       "      <th>mean</th>\n",
       "      <td>992.000000</td>\n",
       "      <td>124.553202</td>\n",
       "      <td>2018.486132</td>\n",
       "      <td>328.671205</td>\n",
       "      <td>12.528190</td>\n",
       "      <td>33.594302</td>\n",
       "      <td>110.762279</td>\n",
       "      <td>88.772718</td>\n",
       "      <td>92.812204</td>\n",
       "      <td>85.858144</td>\n",
       "      <td>435.997983</td>\n",
       "      <td>171.409985</td>\n",
       "      <td>398.273556</td>\n",
       "      <td>122.258195</td>\n",
       "      <td>37.570298</td>\n",
       "      <td>14.143822</td>\n",
       "      <td>23.921836</td>\n",
       "      <td>7.521432</td>\n",
       "      <td>5.020524</td>\n",
       "    </tr>\n",
       "    <tr>\n",
       "      <th>std</th>\n",
       "      <td>572.587111</td>\n",
       "      <td>71.769371</td>\n",
       "      <td>2.283553</td>\n",
       "      <td>113.354644</td>\n",
       "      <td>4.564065</td>\n",
       "      <td>4.086816</td>\n",
       "      <td>3.197814</td>\n",
       "      <td>2.197135</td>\n",
       "      <td>2.614001</td>\n",
       "      <td>2.624503</td>\n",
       "      <td>19.849967</td>\n",
       "      <td>19.957949</td>\n",
       "      <td>10.843687</td>\n",
       "      <td>48.333634</td>\n",
       "      <td>7.899738</td>\n",
       "      <td>2.929498</td>\n",
       "      <td>14.964858</td>\n",
       "      <td>4.153573</td>\n",
       "      <td>2.494225</td>\n",
       "    </tr>\n",
       "    <tr>\n",
       "      <th>min</th>\n",
       "      <td>1.000000</td>\n",
       "      <td>1.000000</td>\n",
       "      <td>2015.000000</td>\n",
       "      <td>67.000000</td>\n",
       "      <td>-7.900000</td>\n",
       "      <td>18.500000</td>\n",
       "      <td>98.500000</td>\n",
       "      <td>78.200000</td>\n",
       "      <td>83.000000</td>\n",
       "      <td>71.200000</td>\n",
       "      <td>359.000000</td>\n",
       "      <td>98.000000</td>\n",
       "      <td>342.000000</td>\n",
       "      <td>6.000000</td>\n",
       "      <td>6.400000</td>\n",
       "      <td>2.300000</td>\n",
       "      <td>0.000000</td>\n",
       "      <td>0.000000</td>\n",
       "      <td>0.000000</td>\n",
       "    </tr>\n",
       "    <tr>\n",
       "      <th>25%</th>\n",
       "      <td>496.500000</td>\n",
       "      <td>62.500000</td>\n",
       "      <td>2017.000000</td>\n",
       "      <td>256.000000</td>\n",
       "      <td>9.500000</td>\n",
       "      <td>30.900000</td>\n",
       "      <td>108.600000</td>\n",
       "      <td>87.350000</td>\n",
       "      <td>91.200000</td>\n",
       "      <td>84.100000</td>\n",
       "      <td>423.000000</td>\n",
       "      <td>158.000000</td>\n",
       "      <td>392.000000</td>\n",
       "      <td>87.500000</td>\n",
       "      <td>32.800000</td>\n",
       "      <td>12.300000</td>\n",
       "      <td>12.000000</td>\n",
       "      <td>4.500000</td>\n",
       "      <td>3.200000</td>\n",
       "    </tr>\n",
       "    <tr>\n",
       "      <th>50%</th>\n",
       "      <td>992.000000</td>\n",
       "      <td>124.000000</td>\n",
       "      <td>2018.000000</td>\n",
       "      <td>333.000000</td>\n",
       "      <td>12.500000</td>\n",
       "      <td>33.500000</td>\n",
       "      <td>110.600000</td>\n",
       "      <td>88.800000</td>\n",
       "      <td>92.900000</td>\n",
       "      <td>85.900000</td>\n",
       "      <td>436.000000</td>\n",
       "      <td>172.000000</td>\n",
       "      <td>399.000000</td>\n",
       "      <td>120.000000</td>\n",
       "      <td>38.200000</td>\n",
       "      <td>14.200000</td>\n",
       "      <td>21.000000</td>\n",
       "      <td>7.100000</td>\n",
       "      <td>4.900000</td>\n",
       "    </tr>\n",
       "    <tr>\n",
       "      <th>75%</th>\n",
       "      <td>1487.500000</td>\n",
       "      <td>186.000000</td>\n",
       "      <td>2020.000000</td>\n",
       "      <td>415.000000</td>\n",
       "      <td>15.550000</td>\n",
       "      <td>36.300000</td>\n",
       "      <td>112.900000</td>\n",
       "      <td>90.100000</td>\n",
       "      <td>94.500000</td>\n",
       "      <td>87.600000</td>\n",
       "      <td>449.000000</td>\n",
       "      <td>186.000000</td>\n",
       "      <td>406.000000</td>\n",
       "      <td>157.000000</td>\n",
       "      <td>42.700000</td>\n",
       "      <td>16.000000</td>\n",
       "      <td>33.000000</td>\n",
       "      <td>10.150000</td>\n",
       "      <td>6.700000</td>\n",
       "    </tr>\n",
       "    <tr>\n",
       "      <th>max</th>\n",
       "      <td>1983.000000</td>\n",
       "      <td>257.000000</td>\n",
       "      <td>2022.000000</td>\n",
       "      <td>599.000000</td>\n",
       "      <td>26.800000</td>\n",
       "      <td>49.700000</td>\n",
       "      <td>122.200000</td>\n",
       "      <td>96.000000</td>\n",
       "      <td>101.300000</td>\n",
       "      <td>94.100000</td>\n",
       "      <td>505.000000</td>\n",
       "      <td>234.000000</td>\n",
       "      <td>438.000000</td>\n",
       "      <td>274.000000</td>\n",
       "      <td>62.200000</td>\n",
       "      <td>23.900000</td>\n",
       "      <td>91.000000</td>\n",
       "      <td>26.700000</td>\n",
       "      <td>15.800000</td>\n",
       "    </tr>\n",
       "  </tbody>\n",
       "</table>\n",
       "</div>"
      ],
      "text/plain": [
       "                id         rank         year  batted_ball_events  \\\n",
       "count  1983.000000  1983.000000  1983.000000         1983.000000   \n",
       "mean    992.000000   124.553202  2018.486132          328.671205   \n",
       "std     572.587111    71.769371     2.283553          113.354644   \n",
       "min       1.000000     1.000000  2015.000000           67.000000   \n",
       "25%     496.500000    62.500000  2017.000000          256.000000   \n",
       "50%     992.000000   124.000000  2018.000000          333.000000   \n",
       "75%    1487.500000   186.000000  2020.000000          415.000000   \n",
       "max    1983.000000   257.000000  2022.000000          599.000000   \n",
       "\n",
       "       launch_angle  sweet_spot_percentage       max_ev   average_ev  \\\n",
       "count   1983.000000            1983.000000  1983.000000  1983.000000   \n",
       "mean      12.528190              33.594302   110.762279    88.772718   \n",
       "std        4.564065               4.086816     3.197814     2.197135   \n",
       "min       -7.900000              18.500000    98.500000    78.200000   \n",
       "25%        9.500000              30.900000   108.600000    87.350000   \n",
       "50%       12.500000              33.500000   110.600000    88.800000   \n",
       "75%       15.550000              36.300000   112.900000    90.100000   \n",
       "max       26.800000              49.700000   122.200000    96.000000   \n",
       "\n",
       "       fly_ball_line_drive_ev  ground_ball_ev  max_distance  average_distance  \\\n",
       "count             1983.000000     1983.000000   1983.000000       1983.000000   \n",
       "mean                92.812204       85.858144    435.997983        171.409985   \n",
       "std                  2.614001        2.624503     19.849967         19.957949   \n",
       "min                 83.000000       71.200000    359.000000         98.000000   \n",
       "25%                 91.200000       84.100000    423.000000        158.000000   \n",
       "50%                 92.900000       85.900000    436.000000        172.000000   \n",
       "75%                 94.500000       87.600000    449.000000        186.000000   \n",
       "max                101.300000       94.100000    505.000000        234.000000   \n",
       "\n",
       "       average_homerun  hard_hit_95mph+  hard_hit_percentage  \\\n",
       "count      1974.000000      1983.000000          1983.000000   \n",
       "mean        398.273556       122.258195            37.570298   \n",
       "std          10.843687        48.333634             7.899738   \n",
       "min         342.000000         6.000000             6.400000   \n",
       "25%         392.000000        87.500000            32.800000   \n",
       "50%         399.000000       120.000000            38.200000   \n",
       "75%         406.000000       157.000000            42.700000   \n",
       "max         438.000000       274.000000            62.200000   \n",
       "\n",
       "       hard_hit_swing_percentage  total_barrels  \\\n",
       "count                1983.000000    1983.000000   \n",
       "mean                   14.143822      23.921836   \n",
       "std                     2.929498      14.964858   \n",
       "min                     2.300000       0.000000   \n",
       "25%                    12.300000      12.000000   \n",
       "50%                    14.200000      21.000000   \n",
       "75%                    16.000000      33.000000   \n",
       "max                    23.900000      91.000000   \n",
       "\n",
       "       barrels_batted_balls_percentage  barrels_plate_appearance_percentage  \n",
       "count                      1983.000000                          1983.000000  \n",
       "mean                          7.521432                             5.020524  \n",
       "std                           4.153573                             2.494225  \n",
       "min                           0.000000                             0.000000  \n",
       "25%                           4.500000                             3.200000  \n",
       "50%                           7.100000                             4.900000  \n",
       "75%                          10.150000                             6.700000  \n",
       "max                          26.700000                            15.800000  "
      ]
     },
     "execution_count": 51,
     "metadata": {},
     "output_type": "execute_result"
    }
   ],
   "source": [
    "exit_velocity.describe()"
   ]
  },
  {
   "cell_type": "code",
   "execution_count": 6,
   "metadata": {},
   "outputs": [
    {
     "name": "stdout",
     "output_type": "stream",
     "text": [
      "id                                     0\n",
      "rank                                   0\n",
      "year                                   0\n",
      "player                                 0\n",
      "batted_ball_events                     0\n",
      "launch_angle                           0\n",
      "sweet_spot_percentage                  0\n",
      "max_ev                                 0\n",
      "average_ev                             0\n",
      "fly_ball_line_drive_ev                 0\n",
      "ground_ball_ev                         0\n",
      "max_distance                           0\n",
      "average_distance                       0\n",
      "average_homerun                        9\n",
      "hard_hit_95mph+                        0\n",
      "hard_hit_percentage                    0\n",
      "hard_hit_swing_percentage              0\n",
      "total_barrels                          0\n",
      "barrels_batted_balls_percentage        0\n",
      "barrels_plate_appearance_percentage    0\n",
      "dtype: int64\n"
     ]
    }
   ],
   "source": [
    "null_values = exit_velocity.isnull()\n",
    "\n",
    "# To get a count of null values in each column\n",
    "null_count = exit_velocity.isnull().sum()\n",
    "\n",
    "print(null_count)"
   ]
  },
  {
   "cell_type": "code",
   "execution_count": 13,
   "metadata": {},
   "outputs": [
    {
     "name": "stdout",
     "output_type": "stream",
     "text": [
      "                   player  year  launch_angle  average_ev  average_homerun\n",
      "0            Judge, Aaron  2022          14.6        95.8            413.0\n",
      "1         Alvarez, Yordan  2022          12.1        95.5            403.0\n",
      "2             Trout, Mike  2022          24.7        91.7            407.0\n",
      "3         Schwarber, Kyle  2022          18.9        93.3            415.0\n",
      "4      Stanton, Giancarlo  2022          10.2        94.6            400.0\n",
      "...                   ...   ...           ...         ...              ...\n",
      "1978         Peña, Brayan  2015           8.0        85.6              NaN\n",
      "1979          Reyes, José  2015          13.3        84.6            386.0\n",
      "1980         Sogard, Eric  2015          11.6        85.5            410.0\n",
      "1981          Revere, Ben  2015           5.1        83.1            367.0\n",
      "1982       Iglesias, José  2015           4.5        83.7            366.0\n",
      "\n",
      "[1983 rows x 5 columns]\n"
     ]
    }
   ],
   "source": [
    "df = exit_velocity[['player', 'year', 'launch_angle', 'average_ev', 'average_homerun']]\n",
    "print(df)\n",
    "\n"
   ]
  },
  {
   "cell_type": "code",
   "execution_count": 23,
   "metadata": {},
   "outputs": [
    {
     "name": "stdout",
     "output_type": "stream",
     "text": [
      "                  player  year  launch_angle  average_ev  average_homerun\n",
      "0           Judge, Aaron  2022          14.6        95.8            413.0\n",
      "1        Alvarez, Yordan  2022          12.1        95.5            403.0\n",
      "2            Trout, Mike  2022          24.7        91.7            407.0\n",
      "3        Schwarber, Kyle  2022          18.9        93.3            415.0\n",
      "4     Stanton, Giancarlo  2022          10.2        94.6            400.0\n",
      "..                   ...   ...           ...         ...              ...\n",
      "475           Kemp, Tony  2021          18.4        86.7            359.0\n",
      "476         Lopez, Nicky  2021           2.8        86.8            382.0\n",
      "477   Simmons, Andrelton  2021           3.9        84.1            389.0\n",
      "478     Torreyes, Ronald  2021          12.2        82.2            375.0\n",
      "479      Fletcher, David  2021           8.2        82.3            369.0\n",
      "\n",
      "[480 rows x 5 columns]\n"
     ]
    }
   ],
   "source": [
    "first_hundred_rows = df.head(480)\n",
    "\n",
    "print(first_hundred_rows)"
   ]
  },
  {
   "cell_type": "code",
   "execution_count": 184,
   "metadata": {},
   "outputs": [
    {
     "name": "stdout",
     "output_type": "stream",
     "text": [
      "Index(['player', 'year', 'launch_angle', 'average_ev', 'average_homerun'], dtype='object')\n"
     ]
    },
    {
     "data": {
      "application/vnd.plotly.v1+json": {
       "config": {
        "plotlyServerURL": "https://plot.ly"
       },
       "data": [
        {
         "customdata": [
          [
           " Judge, Aaron",
           2022,
           14.6
          ],
          [
           " Alvarez, Yordan",
           2022,
           12.1
          ],
          [
           " Trout, Mike",
           2022,
           24.7
          ],
          [
           " Schwarber, Kyle",
           2022,
           18.9
          ],
          [
           " Stanton, Giancarlo",
           2022,
           10.2
          ],
          [
           " Ohtani, Shohei",
           2022,
           12.6
          ],
          [
           " Riley, Austin",
           2022,
           13.9
          ],
          [
           " Pederson, Joc",
           2022,
           14.6
          ],
          [
           " Buxton, Byron",
           2022,
           21.4
          ],
          [
           " Mountcastle, Ryan",
           2022,
           15.7
          ],
          [
           " Harper, Bryce",
           2022,
           12.7
          ],
          [
           " Sánchez, Gary",
           2022,
           13.7
          ],
          [
           " Ozuna, Marcell",
           2022,
           16
          ],
          [
           " Raleigh, Cal",
           2022,
           22.6
          ],
          [
           " Voit, Luke",
           2022,
           18.3
          ],
          [
           " Tellez, Rowdy",
           2022,
           15.3
          ],
          [
           " Walker, Christian",
           2022,
           17.3
          ],
          [
           " Gorman, Nolan",
           2022,
           19.5
          ],
          [
           " Guerrero Jr., Vladimir",
           2022,
           4.7
          ],
          [
           " Davis, J.D.",
           2022,
           11
          ],
          [
           " Devers, Rafael",
           2022,
           12
          ],
          [
           " Contreras, William",
           2022,
           5.7
          ],
          [
           " Olson, Matt",
           2022,
           15.4
          ],
          [
           " Adames, Willy",
           2022,
           19.2
          ],
          [
           " Gallo, Joey",
           2022,
           24.5
          ],
          [
           " Alonso, Pete",
           2022,
           18.3
          ],
          [
           " Chapman, Matt",
           2022,
           19.6
          ],
          [
           " Hernández, Teoscar",
           2022,
           12.1
          ],
          [
           " Rodríguez, Julio",
           2022,
           10.2
          ],
          [
           " Renfroe, Hunter",
           2022,
           16.6
          ],
          [
           " Goldschmidt, Paul",
           2022,
           16
          ],
          [
           " Acuña Jr., Ronald",
           2022,
           10.6
          ],
          [
           " Seager, Corey",
           2022,
           13.2
          ],
          [
           " Martinez, J.D.",
           2022,
           13.8
          ],
          [
           " Muncy, Max",
           2022,
           21.1
          ],
          [
           " Wisdom, Patrick",
           2022,
           21.4
          ],
          [
           " Murphy, Sean",
           2022,
           12.2
          ],
          [
           " Perez, Salvador",
           2022,
           17.9
          ],
          [
           " Betts, Mookie",
           2022,
           18.6
          ],
          [
           " Santander, Anthony",
           2022,
           20.6
          ],
          [
           " Soto, Juan",
           2022,
           9.9
          ],
          [
           " Smith, Will",
           2022,
           18.9
          ],
          [
           " Drury, Brandon",
           2022,
           13.9
          ],
          [
           " Correa, Carlos",
           2022,
           11.3
          ],
          [
           " Brown, Seth",
           2022,
           15.8
          ],
          [
           " Reyes, Franmil",
           2022,
           10.8
          ],
          [
           " Rizzo, Anthony",
           2022,
           19.8
          ],
          [
           " Harris II, Michael",
           2022,
           4
          ],
          [
           " Duvall, Adam",
           2022,
           23.4
          ],
          [
           " García, Adolis",
           2022,
           12.3
          ],
          [
           " Gordon, Nick",
           2022,
           12.7
          ],
          [
           " Laureano, Ramón",
           2022,
           14.8
          ],
          [
           " Pollock, AJ",
           2022,
           12.5
          ],
          [
           " Suárez, Eugenio",
           2022,
           19.8
          ],
          [
           " Ward, Taylor",
           2022,
           15.8
          ],
          [
           " Rivera, Emmanuel",
           2022,
           9.3
          ],
          [
           " Belt, Brandon",
           2022,
           23.4
          ],
          [
           " Tucker, Kyle",
           2022,
           19.9
          ],
          [
           " Hoskins, Rhys",
           2022,
           18.4
          ],
          [
           " O'Neill, Tyler",
           2022,
           13.4
          ],
          [
           " Morel, Christopher",
           2022,
           8.7
          ],
          [
           " Bichette, Bo",
           2022,
           9.9
          ],
          [
           " Machado, Manny",
           2022,
           15.8
          ],
          [
           " Soler, Jorge",
           2022,
           13.7
          ],
          [
           " Yastrzemski, Mike",
           2022,
           19.4
          ],
          [
           " McCormick, Chas",
           2022,
           13.6
          ],
          [
           " Freeman, Freddie",
           2022,
           13.9
          ],
          [
           " Robert, Luis",
           2022,
           9.6
          ],
          [
           " Arenado, Nolan",
           2022,
           22.5
          ],
          [
           " Cron, C.J.",
           2022,
           14
          ],
          [
           " Realmuto, J.T.",
           2022,
           14.1
          ],
          [
           " Story, Trevor",
           2022,
           18.4
          ],
          [
           " Naylor, Josh",
           2022,
           10.5
          ],
          [
           " Taylor, Tyrone",
           2022,
           18.2
          ],
          [
           " Dalbec, Bobby",
           2022,
           15.4
          ],
          [
           " Abreu, José",
           2022,
           8.4
          ],
          [
           " Swanson, Dansby",
           2022,
           16.5
          ],
          [
           " Lowe, Nathaniel",
           2022,
           8.4
          ],
          [
           " Contreras, Willson",
           2022,
           9
          ],
          [
           " Cooper, Garrett",
           2022,
           8.6
          ],
          [
           " Mancini, Trey",
           2022,
           12.8
          ],
          [
           " Urías, Ramón",
           2022,
           11.6
          ],
          [
           " Votto, Joey",
           2022,
           14.2
          ],
          [
           " Torres, Gleyber",
           2022,
           18.1
          ],
          [
           " Varsho, Daulton",
           2022,
           14.7
          ],
          [
           " Polanco, Jorge",
           2022,
           21.7
          ],
          [
           " Peralta, David",
           2022,
           16.2
          ],
          [
           " Suzuki, Seiya",
           2022,
           11.3
          ],
          [
           " Calhoun, Kole",
           2022,
           16.1
          ],
          [
           " Witt Jr., Bobby",
           2022,
           17.3
          ],
          [
           " Cruz, Nelson",
           2022,
           7.2
          ],
          [
           " Melendez, MJ",
           2022,
           14.4
          ],
          [
           " Vogelbach, Daniel",
           2022,
           17.3
          ],
          [
           " Sánchez, Jesús",
           2022,
           11.3
          ],
          [
           " Turner, Trea",
           2022,
           9.4
          ],
          [
           " Altuve, Jose",
           2022,
           16.3
          ],
          [
           " Peña, Jeremy",
           2022,
           8.5
          ],
          [
           " Donaldson, Josh",
           2022,
           12.5
          ],
          [
           " Hernandez, Yadiel",
           2022,
           3.5
          ],
          [
           " Turner, Justin",
           2022,
           19
          ],
          [
           " d'Arnaud, Travis",
           2022,
           11
          ],
          [
           " Rutschman, Adley",
           2022,
           16.2
          ],
          [
           " Walsh, Jared",
           2022,
           10.7
          ],
          [
           " Anderson, Brian",
           2022,
           7
          ],
          [
           " Lindor, Francisco",
           2022,
           14.1
          ],
          [
           " Bregman, Alex",
           2022,
           19.3
          ],
          [
           " Vaughn, Andrew",
           2022,
           7.3
          ],
          [
           " Yelich, Christian",
           2022,
           4.1
          ],
          [
           " Urshela, Gio",
           2022,
           12.1
          ],
          [
           " Taylor, Chris",
           2022,
           20.3
          ],
          [
           " Escobar, Eduardo",
           2022,
           20.8
          ],
          [
           " Candelario, Jeimer",
           2022,
           13.1
          ],
          [
           " Stassi, Max",
           2022,
           8.7
          ],
          [
           " Santana, Carlos",
           2022,
           15.5
          ],
          [
           " Slater, Austin",
           2022,
           5.3
          ],
          [
           " Rodgers, Brendan",
           2022,
           3.9
          ],
          [
           " Kirk, Alejandro",
           2022,
           8.3
          ],
          [
           " McCutchen, Andrew",
           2022,
           13.6
          ],
          [
           " Ruf, Darin",
           2022,
           14.9
          ],
          [
           " Greene, Riley",
           2022,
           3.3
          ],
          [
           " Bell, Josh",
           2022,
           8.6
          ],
          [
           " Arozarena, Randy",
           2022,
           8.6
          ],
          [
           " Chavis, Michael",
           2022,
           12.3
          ],
          [
           " Springer, George",
           2022,
           14.3
          ],
          [
           " Winker, Jesse",
           2022,
           16.7
          ],
          [
           " Kepler, Max",
           2022,
           11
          ],
          [
           " McMahon, Ryan",
           2022,
           11.2
          ],
          [
           " Bellinger, Cody",
           2022,
           20.2
          ],
          [
           " Toro, Abraham",
           2022,
           16.6
          ],
          [
           " Choi, Ji-Man",
           2022,
           9.8
          ],
          [
           " Bohm, Alec",
           2022,
           10.4
          ],
          [
           " Grisham, Trent",
           2022,
           14.4
          ],
          [
           " Urías, Luis",
           2022,
           18.8
          ],
          [
           " Moncada, Yoán",
           2022,
           13.9
          ],
          [
           " Maldonado, Martín",
           2022,
           14.9
          ],
          [
           " Edman, Tommy",
           2022,
           9.2
          ],
          [
           " Nimmo, Brandon",
           2022,
           6.7
          ],
          [
           " Báez, Javier",
           2022,
           8.2
          ],
          [
           " Crawford, Brandon",
           2022,
           13.8
          ],
          [
           " Ramírez, José",
           2022,
           20.9
          ],
          [
           " Marte, Starling",
           2022,
           7.5
          ],
          [
           " Verdugo, Alex",
           2022,
           8.8
          ],
          [
           " Pham, Tommy",
           2022,
           7
          ],
          [
           " Aguilar, Jesús",
           2022,
           18.9
          ],
          [
           " Dozier, Hunter",
           2022,
           12.5
          ],
          [
           " Paredes, Isaac",
           2022,
           15.6
          ],
          [
           " Flores, Wilmer",
           2022,
           20.1
          ],
          [
           " Happ, Ian",
           2022,
           9.9
          ],
          [
           " Giménez, Andrés",
           2022,
           13.2
          ],
          [
           " Thomas, Lane",
           2022,
           13.1
          ],
          [
           " Castro, Harold",
           2022,
           11.8
          ],
          [
           " Odor, Rougned",
           2022,
           22
          ],
          [
           " Taylor, Michael A.",
           2022,
           13.4
          ],
          [
           " Sheets, Gavin",
           2022,
           15.4
          ],
          [
           " Castellanos, Nick",
           2022,
           14.7
          ],
          [
           " Semien, Marcus",
           2022,
           19.6
          ],
          [
           " Bogaerts, Xander",
           2022,
           10
          ],
          [
           " Heim, Jonah",
           2022,
           17.1
          ],
          [
           " Anderson, Tim",
           2022,
           3.3
          ],
          [
           " Hernández, Enrique",
           2022,
           19.7
          ],
          [
           " Reynolds, Bryan",
           2022,
           11.4
          ],
          [
           " Lux, Gavin",
           2022,
           7.1
          ],
          [
           " Pinder, Chad",
           2022,
           10
          ],
          [
           " Torkelson, Spencer",
           2022,
           13.5
          ],
          [
           " Hays, Austin",
           2022,
           11.3
          ],
          [
           " Grichuk, Randal",
           2022,
           7.7
          ],
          [
           " Miranda, Jose",
           2022,
           15.1
          ],
          [
           " Berti, Jon",
           2022,
           4.8
          ],
          [
           " Marte, Ketel",
           2022,
           13.7
          ],
          [
           " Hosmer, Eric",
           2022,
           3.3
          ],
          [
           " García, Avisaíl",
           2022,
           2.6
          ],
          [
           " Vázquez, Christian",
           2022,
           11.5
          ],
          [
           " Mateo, Jorge",
           2022,
           15.2
          ],
          [
           " Gamel, Ben",
           2022,
           12.1
          ],
          [
           " Marsh, Brandon",
           2022,
           10.3
          ],
          [
           " France, Ty",
           2022,
           9.9
          ],
          [
           " Tapia, Raimel",
           2022,
           4.3
          ],
          [
           " Díaz, Elias",
           2022,
           10.4
          ],
          [
           " LeMahieu, DJ",
           2022,
           3.3
          ],
          [
           " Trevino, Jose",
           2022,
           13
          ],
          [
           " Cronenworth, Jake",
           2022,
           19.5
          ],
          [
           " Bradley Jr., Jackie",
           2022,
           7.5
          ],
          [
           " Velazquez, Andrew",
           2022,
           8.6
          ],
          [
           " Moustakas, Mike",
           2022,
           19.4
          ],
          [
           " Benintendi, Andrew",
           2022,
           12.6
          ],
          [
           " Ramírez, Harold",
           2022,
           3.4
          ],
          [
           " Vierling, Matt",
           2022,
           11.3
          ],
          [
           " Blackmon, Charlie",
           2022,
           12
          ],
          [
           " Díaz, Yandy",
           2022,
           7.5
          ],
          [
           " Schoop, Jonathan",
           2022,
           9.5
          ],
          [
           " Franco, Maikel",
           2022,
           11.5
          ],
          [
           " Rengifo, Luis",
           2022,
           10.6
          ],
          [
           " Stott, Bryson",
           2022,
           14.1
          ],
          [
           " Walls, Taylor",
           2022,
           16.5
          ],
          [
           " Rosario, Amed",
           2022,
           4.8
          ],
          [
           " Segura, Jean",
           2022,
           5.2
          ],
          [
           " Schwindel, Frank",
           2022,
           10.2
          ],
          [
           " Mullins, Cedric",
           2022,
           17.1
          ],
          [
           " Estrada, Thairo",
           2022,
           7.3
          ],
          [
           " Cabrera, Miguel",
           2022,
           4.7
          ],
          [
           " Farmer, Kyle",
           2022,
           12.6
          ],
          [
           " Carlson, Dylan",
           2022,
           11.7
          ],
          [
           " Canha, Mark",
           2022,
           10.1
          ],
          [
           " Thomas, Alek",
           2022,
           2.9
          ],
          [
           " Garcia, Leury",
           2022,
           6
          ],
          [
           " Grandal, Yasmani",
           2022,
           11.6
          ],
          [
           " Arraez, Luis",
           2022,
           12.3
          ],
          [
           " Kim, Ha-Seong",
           2022,
           16.1
          ],
          [
           " Wong, Kolten",
           2022,
           13
          ],
          [
           " Ortega, Rafael",
           2022,
           17.6
          ],
          [
           " Profar, Jurickson",
           2022,
           13.6
          ],
          [
           " Ruiz, Keibert",
           2022,
           14.9
          ],
          [
           " Rojas, Josh",
           2022,
           12.6
          ],
          [
           " Merrifield, Whit",
           2022,
           15.5
          ],
          [
           " Espinal, Santiago",
           2022,
           13.9
          ],
          [
           " Joe, Connor",
           2022,
           11
          ],
          [
           " Gurriel Jr., Lourdes",
           2022,
           10.9
          ],
          [
           " Andrus, Elvis",
           2022,
           12.7
          ],
          [
           " Hicks, Aaron",
           2022,
           15.1
          ],
          [
           " India, Jonathan",
           2022,
           15.4
          ],
          [
           " Harrison, Josh",
           2022,
           14.8
          ],
          [
           " Hayes, Ke'Bryan",
           2022,
           6.1
          ],
          [
           " Miller, Owen",
           2022,
           9.6
          ],
          [
           " Senzel, Nick",
           2022,
           11.7
          ],
          [
           " Castro, Willi",
           2022,
           14.2
          ],
          [
           " Grossman, Robbie",
           2022,
           20
          ],
          [
           " Stallings, Jacob",
           2022,
           12.2
          ],
          [
           " Guillorme, Luis",
           2022,
           4.1
          ],
          [
           " Robles, Victor",
           2022,
           15.4
          ],
          [
           " McNeil, Jeff",
           2022,
           12.7
          ],
          [
           " Daza, Yonathan",
           2022,
           5.3
          ],
          [
           " González, Luis",
           2022,
           11.9
          ],
          [
           " Hernández, César",
           2022,
           9.2
          ],
          [
           " Rojas, Miguel",
           2022,
           10.8
          ],
          [
           " Nola, Austin",
           2022,
           11
          ],
          [
           " Hoerner, Nico",
           2022,
           10.6
          ],
          [
           " Gurriel, Yuli",
           2022,
           14.6
          ],
          [
           " Crawford, J.P.",
           2022,
           9.8
          ],
          [
           " Donovan, Brendan",
           2022,
           6.8
          ],
          [
           " Perdomo, Geraldo",
           2022,
           11.3
          ],
          [
           " Kemp, Tony",
           2022,
           15.4
          ],
          [
           " Lopez, Nicky",
           2022,
           4.8
          ],
          [
           " Wendle, Joey",
           2022,
           2.8
          ],
          [
           " Frazier, Adam",
           2022,
           13.3
          ],
          [
           " Kwan, Steven",
           2022,
           10.9
          ],
          [
           " Kiner-Falefa, Isiah",
           2022,
           5.9
          ],
          [
           " Straw, Myles",
           2022,
           9.5
          ],
          [
           " Iglesias, José",
           2022,
           6
          ],
          [
           " Zunino, Mike",
           2021,
           23.2
          ],
          [
           " Tatis Jr., Fernando",
           2021,
           13.8
          ],
          [
           " Ohtani, Shohei",
           2021,
           16.6
          ],
          [
           " Acuña Jr., Ronald",
           2021,
           18.2
          ],
          [
           " Dalbec, Bobby",
           2021,
           17.3
          ],
          [
           " Donaldson, Josh",
           2021,
           14.6
          ],
          [
           " Perez, Salvador",
           2021,
           15.9
          ],
          [
           " Judge, Aaron",
           2021,
           11.6
          ],
          [
           " Harper, Bryce",
           2021,
           13.3
          ],
          [
           " Hoskins, Rhys",
           2021,
           21.7
          ],
          [
           " Guerrero Jr., Vladimir",
           2021,
           9.4
          ],
          [
           " O'Neill, Tyler",
           2021,
           17.8
          ],
          [
           " Alvarez, Yordan",
           2021,
           14.1
          ],
          [
           " Votto, Joey",
           2021,
           18.2
          ],
          [
           " Muncy, Max",
           2021,
           15.2
          ],
          [
           " Devers, Rafael",
           2021,
           13.1
          ],
          [
           " Alonso, Pete",
           2021,
           14.7
          ],
          [
           " Schwarber, Kyle",
           2021,
           15.4
          ],
          [
           " Renfroe, Hunter",
           2021,
           15.6
          ],
          [
           " Belt, Brandon",
           2021,
           23
          ],
          [
           " Duvall, Adam",
           2021,
           23.6
          ],
          [
           " Reyes, Franmil",
           2021,
           9.8
          ],
          [
           " Springer, George",
           2021,
           19
          ],
          [
           " Machado, Manny",
           2021,
           14
          ],
          [
           " Stanton, Giancarlo",
           2021,
           10.3
          ],
          [
           " Sanó, Miguel",
           2021,
           17.6
          ],
          [
           " Goldschmidt, Paul",
           2021,
           17.1
          ],
          [
           " Hernández, Teoscar",
           2021,
           13.1
          ],
          [
           " Cruz, Nelson",
           2021,
           11.8
          ],
          [
           " Suárez, Eugenio",
           2021,
           18.3
          ],
          [
           " Olson, Matt",
           2021,
           16.2
          ],
          [
           " Seager, Corey",
           2021,
           10.7
          ],
          [
           " Riley, Austin",
           2021,
           14.2
          ],
          [
           " Tucker, Kyle",
           2021,
           17.6
          ],
          [
           " Gallo, Joey",
           2021,
           22.7
          ],
          [
           " Lowe, Brandon",
           2021,
           16.9
          ],
          [
           " Haniger, Mitch",
           2021,
           14.8
          ],
          [
           " Martinez, J.D.",
           2021,
           16.9
          ],
          [
           " Soto, Juan",
           2021,
           5.8
          ],
          [
           " Haase, Eric",
           2021,
           16
          ],
          [
           " Freeman, Freddie",
           2021,
           12
          ],
          [
           " Ramírez, José",
           2021,
           18.2
          ],
          [
           " Seager, Kyle",
           2021,
           19.5
          ],
          [
           " García, Avisaíl",
           2021,
           9.3
          ],
          [
           " Sánchez, Gary",
           2021,
           20.5
          ],
          [
           " Pollock, AJ",
           2021,
           12
          ],
          [
           " Crawford, Brandon",
           2021,
           14.7
          ],
          [
           " Soler, Jorge",
           2021,
           15.7
          ],
          [
           " Winker, Jesse",
           2021,
           10.8
          ],
          [
           " Wisdom, Patrick",
           2021,
           19.1
          ],
          [
           " Báez, Javier",
           2021,
           10.6
          ],
          [
           " Mountcastle, Ryan",
           2021,
           16.3
          ],
          [
           " Polanco, Jorge",
           2021,
           19.3
          ],
          [
           " Swanson, Dansby",
           2021,
           14.1
          ],
          [
           " Castellanos, Nick",
           2021,
           14
          ],
          [
           " Cron, C.J.",
           2021,
           15.8
          ],
          [
           " Vaughn, Andrew",
           2021,
           9.7
          ],
          [
           " Walsh, Jared",
           2021,
           7.6
          ],
          [
           " Chapman, Matt",
           2021,
           18.6
          ],
          [
           " Kepler, Max",
           2021,
           16.3
          ],
          [
           " Bichette, Bo",
           2021,
           7.3
          ],
          [
           " Gurriel Jr., Lourdes",
           2021,
           10.5
          ],
          [
           " García, Adolis",
           2021,
           14.7
          ],
          [
           " Miller, Brad",
           2021,
           12.9
          ],
          [
           " Grandal, Yasmani",
           2021,
           14.2
          ],
          [
           " Reynolds, Bryan",
           2021,
           13.4
          ],
          [
           " Murphy, Sean",
           2021,
           15.4
          ],
          [
           " Wade Jr., LaMonte",
           2021,
           19.8
          ],
          [
           " Mancini, Trey",
           2021,
           9.7
          ],
          [
           " Adames, Willy",
           2021,
           16.8
          ],
          [
           " Smith, Will",
           2021,
           19.4
          ],
          [
           " Naquin, Tyler",
           2021,
           9.6
          ],
          [
           " Semien, Marcus",
           2021,
           20.3
          ],
          [
           " Albies, Ozzie",
           2021,
           21.1
          ],
          [
           " Torrens, Luis",
           2021,
           6.1
          ],
          [
           " Laureano, Ramón",
           2021,
           11.9
          ],
          [
           " Upton, Justin",
           2021,
           15.2
          ],
          [
           " Bogaerts, Xander",
           2021,
           12.5
          ],
          [
           " Abreu, José",
           2021,
           10.4
          ],
          [
           " Benintendi, Andrew",
           2021,
           15.4
          ],
          [
           " Bryant, Kris",
           2021,
           15.1
          ],
          [
           " Pederson, Joc",
           2021,
           14.1
          ],
          [
           " Marte, Ketel",
           2021,
           10.3
          ],
          [
           " DeJong, Paul",
           2021,
           16.4
          ],
          [
           " Correa, Carlos",
           2021,
           12.1
          ],
          [
           " Story, Trevor",
           2021,
           17.5
          ],
          [
           " Hays, Austin",
           2021,
           12.5
          ],
          [
           " Yastrzemski, Mike",
           2021,
           19.4
          ],
          [
           " Lowrie, Jed",
           2021,
           16.4
          ],
          [
           " Happ, Ian",
           2021,
           9.9
          ],
          [
           " Contreras, Willson",
           2021,
           9.6
          ],
          [
           " Gomes, Yan",
           2021,
           14.1
          ],
          [
           " Escobar, Eduardo",
           2021,
           20.8
          ],
          [
           " Grichuk, Randal",
           2021,
           16.1
          ],
          [
           " Bell, Josh",
           2021,
           4.9
          ],
          [
           " Pham, Tommy",
           2021,
           7.6
          ],
          [
           " Candelario, Jeimer",
           2021,
           12.6
          ],
          [
           " Urías, Luis",
           2021,
           14.2
          ],
          [
           " Aguilar, Jesús",
           2021,
           19
          ],
          [
           " Kelenic, Jarred",
           2021,
           14.4
          ],
          [
           " India, Jonathan",
           2021,
           13.1
          ],
          [
           " Taylor, Chris",
           2021,
           17.4
          ],
          [
           " Polanco, Gregory",
           2021,
           15.9
          ],
          [
           " Meadows, Austin",
           2021,
           21.7
          ],
          [
           " Lowe, Nathaniel",
           2021,
           5
          ],
          [
           " Marte, Starling",
           2021,
           4.6
          ],
          [
           " Santander, Anthony",
           2021,
           18
          ],
          [
           " Díaz, Elias",
           2021,
           14.7
          ],
          [
           " Mullins, Cedric",
           2021,
           14.8
          ],
          [
           " Anderson, Tim",
           2021,
           4.3
          ],
          [
           " Hernández, Enrique",
           2021,
           17.9
          ],
          [
           " Conforto, Michael",
           2021,
           13.2
          ],
          [
           " Turner, Justin",
           2021,
           19.2
          ],
          [
           " Lindor, Francisco",
           2021,
           14.4
          ],
          [
           " Cabrera, Miguel",
           2021,
           10
          ],
          [
           " Chisholm Jr., Jazz",
           2021,
           9
          ],
          [
           " Urshela, Gio",
           2021,
           7.5
          ],
          [
           " Turner, Trea",
           2021,
           11.4
          ],
          [
           " Rizzo, Anthony",
           2021,
           14.8
          ],
          [
           " McCutchen, Andrew",
           2021,
           14.6
          ],
          [
           " Realmuto, J.T.",
           2021,
           11.5
          ],
          [
           " Baddoo, Akil",
           2021,
           13.8
          ],
          [
           " Toro, Abraham",
           2021,
           13.7
          ],
          [
           " Kelly, Carson",
           2021,
           18.6
          ],
          [
           " Verdugo, Alex",
           2021,
           7.7
          ],
          [
           " Betts, Mookie",
           2021,
           18.9
          ],
          [
           " Dozier, Hunter",
           2021,
           15.8
          ],
          [
           " Posey, Buster",
           2021,
           8.7
          ],
          [
           " Solano, Donovan",
           2021,
           11
          ],
          [
           " Odor, Rougned",
           2021,
           19.6
          ],
          [
           " Cronenworth, Jake",
           2021,
           12.5
          ],
          [
           " Torres, Gleyber",
           2021,
           14.2
          ],
          [
           " Moran, Colin",
           2021,
           7.2
          ],
          [
           " Arenado, Nolan",
           2021,
           20
          ],
          [
           " Blackmon, Charlie",
           2021,
           10.2
          ],
          [
           " Pillar, Kevin",
           2021,
           20.2
          ],
          [
           " Schoop, Jonathan",
           2021,
           10.8
          ],
          [
           " Díaz, Yandy",
           2021,
           6.6
          ],
          [
           " Arozarena, Randy",
           2021,
           7.6
          ],
          [
           " Ramírez, Harold",
           2021,
           6.2
          ],
          [
           " Bader, Harrison",
           2021,
           13.3
          ],
          [
           " Severino, Pedro",
           2021,
           15.2
          ],
          [
           " Moore, Dylan",
           2021,
           20.4
          ],
          [
           " Altuve, Jose",
           2021,
           15.6
          ],
          [
           " France, Ty",
           2021,
           11
          ],
          [
           " Santana, Carlos",
           2021,
           12.9
          ],
          [
           " Moncada, Yoán",
           2021,
           11.3
          ],
          [
           " Zimmer, Bradley",
           2021,
           6.8
          ],
          [
           " Villar, Jonathan",
           2021,
           7
          ],
          [
           " Bregman, Alex",
           2021,
           15.9
          ],
          [
           " Gamel, Ben",
           2021,
           16.7
          ],
          [
           " Hernández, César",
           2021,
           10.7
          ],
          [
           " Brantley, Michael",
           2021,
           9.9
          ],
          [
           " McMahon, Ryan",
           2021,
           14.3
          ],
          [
           " Segura, Jean",
           2021,
           5.8
          ],
          [
           " Grossman, Robbie",
           2021,
           21.1
          ],
          [
           " Flores, Wilmer",
           2021,
           18
          ],
          [
           " Rosario, Eddie",
           2021,
           15.5
          ],
          [
           " Myers, Wil",
           2021,
           10.6
          ],
          [
           " Rodgers, Brendan",
           2021,
           6.3
          ],
          [
           " Yelich, Christian",
           2021,
           2.8
          ],
          [
           " Bellinger, Cody",
           2021,
           22.2
          ],
          [
           " Carlson, Dylan",
           2021,
           15.1
          ],
          [
           " Canha, Mark",
           2021,
           13.5
          ],
          [
           " Solak, Nick",
           2021,
           7
          ],
          [
           " Smith, Dominic",
           2021,
           14.9
          ],
          [
           " Caratini, Victor",
           2021,
           8.4
          ],
          [
           " Taylor, Michael A.",
           2021,
           12.1
          ],
          [
           " Walker, Christian",
           2021,
           15.6
          ],
          [
           " Bohm, Alec",
           2021,
           5.6
          ],
          [
           " Hosmer, Eric",
           2021,
           3.3
          ],
          [
           " Wong, Kolten",
           2021,
           12.8
          ],
          [
           " Molina, Yadier",
           2021,
           15.3
          ],
          [
           " Franco, Maikel",
           2021,
           9.1
          ],
          [
           " Castro, Starlin",
           2021,
           9.2
          ],
          [
           " Cabrera, Asdrúbal",
           2021,
           14.5
          ],
          [
           " Margot, Manuel",
           2021,
           10.7
          ],
          [
           " McCann, James",
           2021,
           9.3
          ],
          [
           " Peralta, David",
           2021,
           5.3
          ],
          [
           " Smith, Pavin",
           2021,
           9
          ],
          [
           " Herrera, Odúbel",
           2021,
           7.3
          ],
          [
           " Stephenson, Tyler",
           2021,
           7.4
          ],
          [
           " Narváez, Omar",
           2021,
           17.9
          ],
          [
           " Castro, Willi",
           2021,
           11.4
          ],
          [
           " Galvis, Freddy",
           2021,
           14.1
          ],
          [
           " Hayes, Ke'Bryan",
           2021,
           2.6
          ],
          [
           " Harrison, Josh",
           2021,
           14.5
          ],
          [
           " Grisham, Trent",
           2021,
           12.3
          ],
          [
           " Hampson, Garrett",
           2021,
           13
          ],
          [
           " Heyward, Jason",
           2021,
           7.5
          ],
          [
           " Edman, Tommy",
           2021,
           9.5
          ],
          [
           " McNeil, Jeff",
           2021,
           12
          ],
          [
           " Maldonado, Martín",
           2021,
           17.6
          ],
          [
           " Farmer, Kyle",
           2021,
           15.8
          ],
          [
           " Wendle, Joey",
           2021,
           6.2
          ],
          [
           " Rojas, Josh",
           2021,
           8.4
          ],
          [
           " Stallings, Jacob",
           2021,
           10.7
          ],
          [
           " Bradley Jr., Jackie",
           2021,
           9.6
          ],
          [
           " Merrifield, Whit",
           2021,
           14.1
          ],
          [
           " LeMahieu, DJ",
           2021,
           5
          ],
          [
           " Iglesias, José",
           2021,
           11.5
          ],
          [
           " Gurriel, Yuli",
           2021,
           13.4
          ],
          [
           " Lux, Gavin",
           2021,
           11.3
          ],
          [
           " Kiermaier, Kevin",
           2021,
           1.1
          ],
          [
           " Barnhart, Tucker",
           2021,
           15.5
          ],
          [
           " Nimmo, Brandon",
           2021,
           8.8
          ],
          [
           " Heredia, Guillermo",
           2021,
           12.7
          ],
          [
           " Gosselin, Phil",
           2021,
           11.5
          ],
          [
           " Garcia, Leury",
           2021,
           4.3
          ],
          [
           " Escobar, Alcides",
           2021,
           11.1
          ],
          [
           " Rojas, Miguel",
           2021,
           11.5
          ],
          [
           " Gardner, Brett",
           2021,
           12.5
          ],
          [
           " Dickerson, Corey",
           2021,
           10.1
          ],
          [
           " Rosario, Amed",
           2021,
           5.5
          ],
          [
           " Vázquez, Christian",
           2021,
           13.6
          ],
          [
           " Arraez, Luis",
           2021,
           9.9
          ],
          [
           " Profar, Jurickson",
           2021,
           14
          ],
          [
           " Crawford, J.P.",
           2021,
           9.8
          ],
          [
           " Andrus, Elvis",
           2021,
           8.1
          ],
          [
           " Tapia, Raimel",
           2021,
           -4.4
          ],
          [
           " Ahmed, Nick",
           2021,
           10.1
          ],
          [
           " Gregorius, Didi",
           2021,
           18.3
          ],
          [
           " Robles, Victor",
           2021,
           19.9
          ],
          [
           " Kiner-Falefa, Isiah",
           2021,
           5.4
          ],
          [
           " Newman, Kevin",
           2021,
           9.9
          ],
          [
           " Straw, Myles",
           2021,
           11.9
          ],
          [
           " Frazier, Adam",
           2021,
           12.6
          ],
          [
           " Kemp, Tony",
           2021,
           18.4
          ],
          [
           " Lopez, Nicky",
           2021,
           2.8
          ],
          [
           " Simmons, Andrelton",
           2021,
           3.9
          ],
          [
           " Torreyes, Ronald",
           2021,
           12.2
          ],
          [
           " Fletcher, David",
           2021,
           8.2
          ]
         ],
         "hovertemplate": "average_ev=%{x}<br>average_homerun=%{y}<br>player=%{customdata[0]}<br>year=%{marker.color}<br>launch_angle=%{customdata[2]}<extra></extra>",
         "legendgroup": "",
         "marker": {
          "color": [
           2022,
           2022,
           2022,
           2022,
           2022,
           2022,
           2022,
           2022,
           2022,
           2022,
           2022,
           2022,
           2022,
           2022,
           2022,
           2022,
           2022,
           2022,
           2022,
           2022,
           2022,
           2022,
           2022,
           2022,
           2022,
           2022,
           2022,
           2022,
           2022,
           2022,
           2022,
           2022,
           2022,
           2022,
           2022,
           2022,
           2022,
           2022,
           2022,
           2022,
           2022,
           2022,
           2022,
           2022,
           2022,
           2022,
           2022,
           2022,
           2022,
           2022,
           2022,
           2022,
           2022,
           2022,
           2022,
           2022,
           2022,
           2022,
           2022,
           2022,
           2022,
           2022,
           2022,
           2022,
           2022,
           2022,
           2022,
           2022,
           2022,
           2022,
           2022,
           2022,
           2022,
           2022,
           2022,
           2022,
           2022,
           2022,
           2022,
           2022,
           2022,
           2022,
           2022,
           2022,
           2022,
           2022,
           2022,
           2022,
           2022,
           2022,
           2022,
           2022,
           2022,
           2022,
           2022,
           2022,
           2022,
           2022,
           2022,
           2022,
           2022,
           2022,
           2022,
           2022,
           2022,
           2022,
           2022,
           2022,
           2022,
           2022,
           2022,
           2022,
           2022,
           2022,
           2022,
           2022,
           2022,
           2022,
           2022,
           2022,
           2022,
           2022,
           2022,
           2022,
           2022,
           2022,
           2022,
           2022,
           2022,
           2022,
           2022,
           2022,
           2022,
           2022,
           2022,
           2022,
           2022,
           2022,
           2022,
           2022,
           2022,
           2022,
           2022,
           2022,
           2022,
           2022,
           2022,
           2022,
           2022,
           2022,
           2022,
           2022,
           2022,
           2022,
           2022,
           2022,
           2022,
           2022,
           2022,
           2022,
           2022,
           2022,
           2022,
           2022,
           2022,
           2022,
           2022,
           2022,
           2022,
           2022,
           2022,
           2022,
           2022,
           2022,
           2022,
           2022,
           2022,
           2022,
           2022,
           2022,
           2022,
           2022,
           2022,
           2022,
           2022,
           2022,
           2022,
           2022,
           2022,
           2022,
           2022,
           2022,
           2022,
           2022,
           2022,
           2022,
           2022,
           2022,
           2022,
           2022,
           2022,
           2022,
           2022,
           2022,
           2022,
           2022,
           2022,
           2022,
           2022,
           2022,
           2022,
           2022,
           2022,
           2022,
           2022,
           2022,
           2022,
           2022,
           2022,
           2022,
           2022,
           2022,
           2022,
           2022,
           2022,
           2022,
           2022,
           2022,
           2022,
           2022,
           2022,
           2022,
           2022,
           2022,
           2022,
           2022,
           2022,
           2022,
           2022,
           2022,
           2022,
           2022,
           2022,
           2022,
           2022,
           2022,
           2022,
           2022,
           2021,
           2021,
           2021,
           2021,
           2021,
           2021,
           2021,
           2021,
           2021,
           2021,
           2021,
           2021,
           2021,
           2021,
           2021,
           2021,
           2021,
           2021,
           2021,
           2021,
           2021,
           2021,
           2021,
           2021,
           2021,
           2021,
           2021,
           2021,
           2021,
           2021,
           2021,
           2021,
           2021,
           2021,
           2021,
           2021,
           2021,
           2021,
           2021,
           2021,
           2021,
           2021,
           2021,
           2021,
           2021,
           2021,
           2021,
           2021,
           2021,
           2021,
           2021,
           2021,
           2021,
           2021,
           2021,
           2021,
           2021,
           2021,
           2021,
           2021,
           2021,
           2021,
           2021,
           2021,
           2021,
           2021,
           2021,
           2021,
           2021,
           2021,
           2021,
           2021,
           2021,
           2021,
           2021,
           2021,
           2021,
           2021,
           2021,
           2021,
           2021,
           2021,
           2021,
           2021,
           2021,
           2021,
           2021,
           2021,
           2021,
           2021,
           2021,
           2021,
           2021,
           2021,
           2021,
           2021,
           2021,
           2021,
           2021,
           2021,
           2021,
           2021,
           2021,
           2021,
           2021,
           2021,
           2021,
           2021,
           2021,
           2021,
           2021,
           2021,
           2021,
           2021,
           2021,
           2021,
           2021,
           2021,
           2021,
           2021,
           2021,
           2021,
           2021,
           2021,
           2021,
           2021,
           2021,
           2021,
           2021,
           2021,
           2021,
           2021,
           2021,
           2021,
           2021,
           2021,
           2021,
           2021,
           2021,
           2021,
           2021,
           2021,
           2021,
           2021,
           2021,
           2021,
           2021,
           2021,
           2021,
           2021,
           2021,
           2021,
           2021,
           2021,
           2021,
           2021,
           2021,
           2021,
           2021,
           2021,
           2021,
           2021,
           2021,
           2021,
           2021,
           2021,
           2021,
           2021,
           2021,
           2021,
           2021,
           2021,
           2021,
           2021,
           2021,
           2021,
           2021,
           2021,
           2021,
           2021,
           2021,
           2021,
           2021,
           2021,
           2021,
           2021,
           2021,
           2021,
           2021,
           2021,
           2021,
           2021,
           2021,
           2021,
           2021,
           2021,
           2021,
           2021,
           2021,
           2021,
           2021,
           2021,
           2021,
           2021,
           2021,
           2021,
           2021,
           2021,
           2021,
           2021,
           2021,
           2021,
           2021,
           2021,
           2021,
           2021,
           2021,
           2021,
           2021,
           2021,
           2021,
           2021,
           2021,
           2021,
           2021,
           2021,
           2021,
           2021,
           2021,
           2021,
           2021,
           2021
          ],
          "coloraxis": "coloraxis",
          "symbol": "circle"
         },
         "mode": "markers",
         "name": "",
         "orientation": "v",
         "showlegend": false,
         "type": "scatter",
         "x": [
          95.8,
          95.5,
          91.7,
          93.3,
          94.6,
          92.6,
          92.8,
          93.3,
          92.9,
          91.1,
          92.4,
          89.7,
          89.3,
          90.9,
          90.5,
          91.2,
          90,
          89.3,
          93,
          92.2,
          93.2,
          90.7,
          92.7,
          89,
          89.6,
          90,
          92.6,
          92.8,
          92,
          90.7,
          90.8,
          91.4,
          91,
          89.6,
          90,
          91,
          88.9,
          91.6,
          90.4,
          90.1,
          90.8,
          90.3,
          89.2,
          89.8,
          89.4,
          91.8,
          89.6,
          89.3,
          88.3,
          92,
          90.8,
          88.3,
          88.5,
          89.1,
          89.4,
          90.4,
          88.4,
          89.6,
          90.1,
          89.6,
          88.9,
          91.8,
          91.7,
          91.2,
          89.5,
          89,
          91.3,
          89.2,
          89.2,
          88.5,
          90.1,
          88.7,
          89.2,
          88.3,
          90,
          91.9,
          90.2,
          90.1,
          90,
          89.5,
          89.5,
          89.8,
          89.7,
          90.1,
          87.8,
          89,
          90.2,
          89.6,
          91.2,
          90.2,
          90.9,
          91,
          90.2,
          89.5,
          88.9,
          86.5,
          87.4,
          91,
          88.8,
          89.4,
          88.1,
          88.1,
          90.1,
          89.8,
          89.3,
          89.3,
          90.9,
          91.6,
          89.2,
          87.9,
          88.3,
          87.3,
          88.9,
          90.5,
          89,
          89.9,
          91.2,
          89.2,
          89.6,
          89.5,
          89.7,
          90.2,
          86.1,
          88.5,
          87.7,
          89.1,
          91.5,
          89.9,
          86.9,
          91.8,
          90.5,
          87.8,
          87.2,
          88.4,
          89.1,
          89.2,
          89.4,
          87.7,
          87.7,
          88,
          86.8,
          89,
          92.4,
          87.7,
          88.2,
          87.3,
          88.3,
          89.4,
          87.7,
          86.6,
          87.1,
          88,
          86.9,
          88.9,
          87.7,
          86.9,
          88.5,
          89.5,
          88.2,
          88,
          89.6,
          87.8,
          87.5,
          89.9,
          88.2,
          89.7,
          89.5,
          87.6,
          89.8,
          88.3,
          88.7,
          88,
          86.8,
          89,
          88.7,
          87.6,
          87.8,
          88.6,
          89.4,
          88.1,
          87.6,
          88,
          88.3,
          87.6,
          89.2,
          88.9,
          91.3,
          86.1,
          91.9,
          87.2,
          87,
          86.9,
          88.2,
          86.1,
          88.4,
          89,
          88.1,
          88.7,
          86.3,
          90,
          85.5,
          86.2,
          88.3,
          87.4,
          87,
          89.6,
          88.5,
          86.3,
          87.6,
          87.2,
          87.7,
          87.9,
          89.1,
          87,
          86.2,
          85.2,
          90.7,
          87.9,
          87.7,
          85.6,
          87,
          91.1,
          86.2,
          87,
          84.4,
          86.6,
          86.5,
          86.6,
          83.8,
          87,
          85.9,
          87.2,
          84.3,
          85.8,
          89.4,
          87.1,
          88.2,
          84.6,
          86.8,
          85.1,
          84.3,
          85.4,
          87,
          85.3,
          84.6,
          86.6,
          86.9,
          83.9,
          90.7,
          93.9,
          93.6,
          93.8,
          92.4,
          94.1,
          93,
          95.8,
          92.5,
          91.2,
          95.1,
          93,
          93.2,
          92.9,
          91.2,
          92.9,
          91,
          92.3,
          90.1,
          89.2,
          89.8,
          91.9,
          89.4,
          93.1,
          95.1,
          93.4,
          92.6,
          91.8,
          92.9,
          89.1,
          91.6,
          91,
          90.1,
          91.4,
          91.5,
          89.3,
          89.3,
          92.1,
          93,
          90.9,
          91.4,
          90,
          89,
          90.4,
          89.5,
          90.3,
          88.8,
          91.2,
          90.6,
          91.2,
          90.1,
          89.1,
          89.4,
          89.3,
          89.8,
          88.8,
          91.1,
          89.6,
          89.7,
          89.8,
          91.4,
          89.7,
          91,
          92.4,
          93.1,
          89.4,
          89.2,
          90.1,
          88.9,
          89.5,
          90.1,
          89.8,
          89.7,
          89.6,
          90.9,
          87.9,
          90.1,
          89.6,
          92,
          89.6,
          88.2,
          91,
          91.1,
          86.3,
          90.2,
          90.6,
          88.8,
          89.5,
          90.7,
          89.5,
          91.8,
          89.6,
          87,
          89.8,
          92.5,
          90.8,
          88.7,
          87.9,
          89.6,
          87.5,
          87.6,
          88.2,
          89.9,
          89.3,
          90.8,
          87.6,
          90.7,
          87.1,
          89.4,
          89.6,
          90.8,
          88.5,
          90.9,
          90.7,
          91.4,
          90.2,
          88.9,
          89.6,
          90.1,
          88.8,
          89.6,
          86,
          86.8,
          88.2,
          90,
          90.3,
          89.9,
          88.5,
          88.3,
          89.1,
          88.6,
          87.1,
          89.1,
          89,
          87.6,
          85.8,
          88.1,
          89.9,
          89.9,
          91.3,
          86.2,
          88.2,
          86.5,
          87.7,
          88.5,
          89.9,
          90.1,
          90.7,
          88,
          89,
          89,
          87.4,
          89.5,
          90.5,
          87.2,
          87.8,
          88.6,
          88.5,
          88,
          88.8,
          91,
          89.3,
          88.2,
          87.3,
          86.9,
          89,
          90,
          89.4,
          88.8,
          92,
          90.5,
          88.3,
          88,
          88.2,
          88.4,
          87.8,
          87.9,
          87.3,
          89.3,
          87.2,
          88.9,
          88.4,
          84.6,
          85.6,
          86.8,
          90.2,
          87.2,
          88.8,
          87,
          88.2,
          87.5,
          88.1,
          88,
          87.2,
          87.9,
          88.2,
          88.1,
          89.7,
          86.9,
          90.6,
          85.4,
          89.8,
          89.8,
          86.6,
          87.1,
          89.3,
          86.6,
          87.6,
          86.1,
          81.7,
          86.2,
          86.7,
          87.8,
          88.8,
          86.3,
          88.4,
          85.3,
          86.3,
          87.8,
          85.7,
          87.2,
          86.1,
          84.1,
          85.5,
          85.3,
          87.1,
          85.4,
          86.7,
          86.8,
          84.1,
          82.2,
          82.3
         ],
         "xaxis": "x",
         "y": [
          413,
          403,
          407,
          415,
          400,
          408,
          411,
          410,
          410,
          408,
          404,
          412,
          416,
          391,
          405,
          407,
          415,
          410,
          407,
          401,
          403,
          406,
          404,
          401,
          402,
          399,
          406,
          409,
          397,
          407,
          399,
          437,
          404,
          400,
          392,
          406,
          411,
          409,
          394,
          398,
          410,
          403,
          388,
          412,
          399,
          390,
          392,
          408,
          399,
          403,
          404,
          398,
          384,
          402,
          402,
          414,
          388,
          398,
          392,
          405,
          408,
          388,
          401,
          416,
          399,
          389,
          402,
          410,
          386,
          422,
          391,
          391,
          393,
          401,
          393,
          407,
          406,
          410,
          401,
          407,
          385,
          403,
          387,
          381,
          406,
          402,
          411,
          397,
          392,
          416,
          408,
          411,
          399,
          415,
          401,
          387,
          399,
          399,
          390,
          392,
          401,
          402,
          387,
          409,
          392,
          381,
          402,
          423,
          401,
          401,
          395,
          396,
          398,
          400,
          380,
          419,
          390,
          390,
          397,
          412,
          403,
          403,
          398,
          390,
          407,
          399,
          427,
          396,
          394,
          397,
          394,
          401,
          394,
          411,
          401,
          393,
          401,
          393,
          396,
          390,
          405,
          407,
          405,
          405,
          404,
          388,
          384,
          389,
          402,
          393,
          389,
          401,
          400,
          391,
          398,
          393,
          393,
          382,
          385,
          373,
          398,
          411,
          397,
          391,
          399,
          415,
          393,
          387,
          403,
          395,
          408,
          388,
          394,
          383,
          411,
          397,
          393,
          406,
          378,
          393,
          389,
          390,
          381,
          404,
          401,
          362,
          407,
          409,
          403,
          395,
          409,
          395,
          388,
          382,
          414,
          383,
          384,
          393,
          394,
          396,
          391,
          401,
          394,
          394,
          383,
          382,
          381,
          401,
          384,
          383,
          384,
          394,
          397,
          384,
          383,
          400,
          397,
          383,
          393,
          395,
          383,
          390,
          392,
          378,
          379,
          390,
          380,
          370,
          391,
          395,
          408,
          397,
          398,
          381,
          393,
          379,
          377,
          397,
          383,
          391,
          365,
          null,
          392,
          344,
          374,
          371,
          null,
          404,
          403,
          416,
          416,
          416,
          403,
          410,
          407,
          402,
          411,
          407,
          409,
          414,
          408,
          403,
          411,
          414,
          407,
          414,
          413,
          399,
          414,
          414,
          403,
          401,
          414,
          415,
          415,
          405,
          410,
          406,
          401,
          404,
          403,
          394,
          408,
          398,
          401,
          398,
          399,
          407,
          407,
          388,
          402,
          409,
          406,
          405,
          399,
          422,
          407,
          410,
          403,
          396,
          399,
          403,
          399,
          420,
          408,
          402,
          409,
          395,
          401,
          399,
          398,
          401,
          404,
          410,
          411,
          396,
          409,
          397,
          396,
          410,
          388,
          401,
          391,
          407,
          401,
          402,
          402,
          391,
          391,
          408,
          410,
          400,
          386,
          419,
          391,
          401,
          398,
          402,
          410,
          397,
          407,
          403,
          411,
          402,
          396,
          397,
          399,
          402,
          407,
          404,
          408,
          394,
          413,
          418,
          406,
          404,
          397,
          389,
          393,
          408,
          394,
          396,
          394,
          410,
          400,
          406,
          402,
          402,
          382,
          385,
          382,
          396,
          402,
          396,
          406,
          387,
          390,
          398,
          400,
          389,
          392,
          387,
          410,
          393,
          395,
          397,
          401,
          393,
          405,
          407,
          402,
          386,
          403,
          408,
          402,
          438,
          404,
          383,
          396,
          395,
          398,
          409,
          396,
          391,
          393,
          392,
          394,
          408,
          409,
          383,
          395,
          386,
          386,
          400,
          388,
          405,
          404,
          387,
          415,
          391,
          394,
          402,
          413,
          392,
          401,
          387,
          410,
          410,
          413,
          391,
          395,
          390,
          383,
          394,
          396,
          386,
          403,
          405,
          405,
          403,
          378,
          394,
          390,
          404,
          393,
          404,
          384,
          375,
          396,
          384,
          399,
          376,
          392,
          397,
          402,
          396,
          406,
          400,
          398,
          378,
          398,
          404,
          390,
          400,
          384,
          383,
          401,
          414,
          399,
          389,
          412,
          401,
          384,
          364,
          383,
          359,
          382,
          389,
          375,
          369
         ],
         "yaxis": "y"
        }
       ],
       "layout": {
        "coloraxis": {
         "colorbar": {
          "title": {
           "text": "year"
          }
         },
         "colorscale": [
          [
           0,
           "#0d0887"
          ],
          [
           0.1111111111111111,
           "#46039f"
          ],
          [
           0.2222222222222222,
           "#7201a8"
          ],
          [
           0.3333333333333333,
           "#9c179e"
          ],
          [
           0.4444444444444444,
           "#bd3786"
          ],
          [
           0.5555555555555556,
           "#d8576b"
          ],
          [
           0.6666666666666666,
           "#ed7953"
          ],
          [
           0.7777777777777778,
           "#fb9f3a"
          ],
          [
           0.8888888888888888,
           "#fdca26"
          ],
          [
           1,
           "#f0f921"
          ]
         ]
        },
        "legend": {
         "tracegroupgap": 0
        },
        "margin": {
         "t": 60
        },
        "template": {
         "data": {
          "bar": [
           {
            "error_x": {
             "color": "#2a3f5f"
            },
            "error_y": {
             "color": "#2a3f5f"
            },
            "marker": {
             "line": {
              "color": "#E5ECF6",
              "width": 0.5
             },
             "pattern": {
              "fillmode": "overlay",
              "size": 10,
              "solidity": 0.2
             }
            },
            "type": "bar"
           }
          ],
          "barpolar": [
           {
            "marker": {
             "line": {
              "color": "#E5ECF6",
              "width": 0.5
             },
             "pattern": {
              "fillmode": "overlay",
              "size": 10,
              "solidity": 0.2
             }
            },
            "type": "barpolar"
           }
          ],
          "carpet": [
           {
            "aaxis": {
             "endlinecolor": "#2a3f5f",
             "gridcolor": "white",
             "linecolor": "white",
             "minorgridcolor": "white",
             "startlinecolor": "#2a3f5f"
            },
            "baxis": {
             "endlinecolor": "#2a3f5f",
             "gridcolor": "white",
             "linecolor": "white",
             "minorgridcolor": "white",
             "startlinecolor": "#2a3f5f"
            },
            "type": "carpet"
           }
          ],
          "choropleth": [
           {
            "colorbar": {
             "outlinewidth": 0,
             "ticks": ""
            },
            "type": "choropleth"
           }
          ],
          "contour": [
           {
            "colorbar": {
             "outlinewidth": 0,
             "ticks": ""
            },
            "colorscale": [
             [
              0,
              "#0d0887"
             ],
             [
              0.1111111111111111,
              "#46039f"
             ],
             [
              0.2222222222222222,
              "#7201a8"
             ],
             [
              0.3333333333333333,
              "#9c179e"
             ],
             [
              0.4444444444444444,
              "#bd3786"
             ],
             [
              0.5555555555555556,
              "#d8576b"
             ],
             [
              0.6666666666666666,
              "#ed7953"
             ],
             [
              0.7777777777777778,
              "#fb9f3a"
             ],
             [
              0.8888888888888888,
              "#fdca26"
             ],
             [
              1,
              "#f0f921"
             ]
            ],
            "type": "contour"
           }
          ],
          "contourcarpet": [
           {
            "colorbar": {
             "outlinewidth": 0,
             "ticks": ""
            },
            "type": "contourcarpet"
           }
          ],
          "heatmap": [
           {
            "colorbar": {
             "outlinewidth": 0,
             "ticks": ""
            },
            "colorscale": [
             [
              0,
              "#0d0887"
             ],
             [
              0.1111111111111111,
              "#46039f"
             ],
             [
              0.2222222222222222,
              "#7201a8"
             ],
             [
              0.3333333333333333,
              "#9c179e"
             ],
             [
              0.4444444444444444,
              "#bd3786"
             ],
             [
              0.5555555555555556,
              "#d8576b"
             ],
             [
              0.6666666666666666,
              "#ed7953"
             ],
             [
              0.7777777777777778,
              "#fb9f3a"
             ],
             [
              0.8888888888888888,
              "#fdca26"
             ],
             [
              1,
              "#f0f921"
             ]
            ],
            "type": "heatmap"
           }
          ],
          "heatmapgl": [
           {
            "colorbar": {
             "outlinewidth": 0,
             "ticks": ""
            },
            "colorscale": [
             [
              0,
              "#0d0887"
             ],
             [
              0.1111111111111111,
              "#46039f"
             ],
             [
              0.2222222222222222,
              "#7201a8"
             ],
             [
              0.3333333333333333,
              "#9c179e"
             ],
             [
              0.4444444444444444,
              "#bd3786"
             ],
             [
              0.5555555555555556,
              "#d8576b"
             ],
             [
              0.6666666666666666,
              "#ed7953"
             ],
             [
              0.7777777777777778,
              "#fb9f3a"
             ],
             [
              0.8888888888888888,
              "#fdca26"
             ],
             [
              1,
              "#f0f921"
             ]
            ],
            "type": "heatmapgl"
           }
          ],
          "histogram": [
           {
            "marker": {
             "pattern": {
              "fillmode": "overlay",
              "size": 10,
              "solidity": 0.2
             }
            },
            "type": "histogram"
           }
          ],
          "histogram2d": [
           {
            "colorbar": {
             "outlinewidth": 0,
             "ticks": ""
            },
            "colorscale": [
             [
              0,
              "#0d0887"
             ],
             [
              0.1111111111111111,
              "#46039f"
             ],
             [
              0.2222222222222222,
              "#7201a8"
             ],
             [
              0.3333333333333333,
              "#9c179e"
             ],
             [
              0.4444444444444444,
              "#bd3786"
             ],
             [
              0.5555555555555556,
              "#d8576b"
             ],
             [
              0.6666666666666666,
              "#ed7953"
             ],
             [
              0.7777777777777778,
              "#fb9f3a"
             ],
             [
              0.8888888888888888,
              "#fdca26"
             ],
             [
              1,
              "#f0f921"
             ]
            ],
            "type": "histogram2d"
           }
          ],
          "histogram2dcontour": [
           {
            "colorbar": {
             "outlinewidth": 0,
             "ticks": ""
            },
            "colorscale": [
             [
              0,
              "#0d0887"
             ],
             [
              0.1111111111111111,
              "#46039f"
             ],
             [
              0.2222222222222222,
              "#7201a8"
             ],
             [
              0.3333333333333333,
              "#9c179e"
             ],
             [
              0.4444444444444444,
              "#bd3786"
             ],
             [
              0.5555555555555556,
              "#d8576b"
             ],
             [
              0.6666666666666666,
              "#ed7953"
             ],
             [
              0.7777777777777778,
              "#fb9f3a"
             ],
             [
              0.8888888888888888,
              "#fdca26"
             ],
             [
              1,
              "#f0f921"
             ]
            ],
            "type": "histogram2dcontour"
           }
          ],
          "mesh3d": [
           {
            "colorbar": {
             "outlinewidth": 0,
             "ticks": ""
            },
            "type": "mesh3d"
           }
          ],
          "parcoords": [
           {
            "line": {
             "colorbar": {
              "outlinewidth": 0,
              "ticks": ""
             }
            },
            "type": "parcoords"
           }
          ],
          "pie": [
           {
            "automargin": true,
            "type": "pie"
           }
          ],
          "scatter": [
           {
            "fillpattern": {
             "fillmode": "overlay",
             "size": 10,
             "solidity": 0.2
            },
            "type": "scatter"
           }
          ],
          "scatter3d": [
           {
            "line": {
             "colorbar": {
              "outlinewidth": 0,
              "ticks": ""
             }
            },
            "marker": {
             "colorbar": {
              "outlinewidth": 0,
              "ticks": ""
             }
            },
            "type": "scatter3d"
           }
          ],
          "scattercarpet": [
           {
            "marker": {
             "colorbar": {
              "outlinewidth": 0,
              "ticks": ""
             }
            },
            "type": "scattercarpet"
           }
          ],
          "scattergeo": [
           {
            "marker": {
             "colorbar": {
              "outlinewidth": 0,
              "ticks": ""
             }
            },
            "type": "scattergeo"
           }
          ],
          "scattergl": [
           {
            "marker": {
             "colorbar": {
              "outlinewidth": 0,
              "ticks": ""
             }
            },
            "type": "scattergl"
           }
          ],
          "scattermapbox": [
           {
            "marker": {
             "colorbar": {
              "outlinewidth": 0,
              "ticks": ""
             }
            },
            "type": "scattermapbox"
           }
          ],
          "scatterpolar": [
           {
            "marker": {
             "colorbar": {
              "outlinewidth": 0,
              "ticks": ""
             }
            },
            "type": "scatterpolar"
           }
          ],
          "scatterpolargl": [
           {
            "marker": {
             "colorbar": {
              "outlinewidth": 0,
              "ticks": ""
             }
            },
            "type": "scatterpolargl"
           }
          ],
          "scatterternary": [
           {
            "marker": {
             "colorbar": {
              "outlinewidth": 0,
              "ticks": ""
             }
            },
            "type": "scatterternary"
           }
          ],
          "surface": [
           {
            "colorbar": {
             "outlinewidth": 0,
             "ticks": ""
            },
            "colorscale": [
             [
              0,
              "#0d0887"
             ],
             [
              0.1111111111111111,
              "#46039f"
             ],
             [
              0.2222222222222222,
              "#7201a8"
             ],
             [
              0.3333333333333333,
              "#9c179e"
             ],
             [
              0.4444444444444444,
              "#bd3786"
             ],
             [
              0.5555555555555556,
              "#d8576b"
             ],
             [
              0.6666666666666666,
              "#ed7953"
             ],
             [
              0.7777777777777778,
              "#fb9f3a"
             ],
             [
              0.8888888888888888,
              "#fdca26"
             ],
             [
              1,
              "#f0f921"
             ]
            ],
            "type": "surface"
           }
          ],
          "table": [
           {
            "cells": {
             "fill": {
              "color": "#EBF0F8"
             },
             "line": {
              "color": "white"
             }
            },
            "header": {
             "fill": {
              "color": "#C8D4E3"
             },
             "line": {
              "color": "white"
             }
            },
            "type": "table"
           }
          ]
         },
         "layout": {
          "annotationdefaults": {
           "arrowcolor": "#2a3f5f",
           "arrowhead": 0,
           "arrowwidth": 1
          },
          "autotypenumbers": "strict",
          "coloraxis": {
           "colorbar": {
            "outlinewidth": 0,
            "ticks": ""
           }
          },
          "colorscale": {
           "diverging": [
            [
             0,
             "#8e0152"
            ],
            [
             0.1,
             "#c51b7d"
            ],
            [
             0.2,
             "#de77ae"
            ],
            [
             0.3,
             "#f1b6da"
            ],
            [
             0.4,
             "#fde0ef"
            ],
            [
             0.5,
             "#f7f7f7"
            ],
            [
             0.6,
             "#e6f5d0"
            ],
            [
             0.7,
             "#b8e186"
            ],
            [
             0.8,
             "#7fbc41"
            ],
            [
             0.9,
             "#4d9221"
            ],
            [
             1,
             "#276419"
            ]
           ],
           "sequential": [
            [
             0,
             "#0d0887"
            ],
            [
             0.1111111111111111,
             "#46039f"
            ],
            [
             0.2222222222222222,
             "#7201a8"
            ],
            [
             0.3333333333333333,
             "#9c179e"
            ],
            [
             0.4444444444444444,
             "#bd3786"
            ],
            [
             0.5555555555555556,
             "#d8576b"
            ],
            [
             0.6666666666666666,
             "#ed7953"
            ],
            [
             0.7777777777777778,
             "#fb9f3a"
            ],
            [
             0.8888888888888888,
             "#fdca26"
            ],
            [
             1,
             "#f0f921"
            ]
           ],
           "sequentialminus": [
            [
             0,
             "#0d0887"
            ],
            [
             0.1111111111111111,
             "#46039f"
            ],
            [
             0.2222222222222222,
             "#7201a8"
            ],
            [
             0.3333333333333333,
             "#9c179e"
            ],
            [
             0.4444444444444444,
             "#bd3786"
            ],
            [
             0.5555555555555556,
             "#d8576b"
            ],
            [
             0.6666666666666666,
             "#ed7953"
            ],
            [
             0.7777777777777778,
             "#fb9f3a"
            ],
            [
             0.8888888888888888,
             "#fdca26"
            ],
            [
             1,
             "#f0f921"
            ]
           ]
          },
          "colorway": [
           "#636efa",
           "#EF553B",
           "#00cc96",
           "#ab63fa",
           "#FFA15A",
           "#19d3f3",
           "#FF6692",
           "#B6E880",
           "#FF97FF",
           "#FECB52"
          ],
          "font": {
           "color": "#2a3f5f"
          },
          "geo": {
           "bgcolor": "white",
           "lakecolor": "white",
           "landcolor": "#E5ECF6",
           "showlakes": true,
           "showland": true,
           "subunitcolor": "white"
          },
          "hoverlabel": {
           "align": "left"
          },
          "hovermode": "closest",
          "mapbox": {
           "style": "light"
          },
          "paper_bgcolor": "white",
          "plot_bgcolor": "#E5ECF6",
          "polar": {
           "angularaxis": {
            "gridcolor": "white",
            "linecolor": "white",
            "ticks": ""
           },
           "bgcolor": "#E5ECF6",
           "radialaxis": {
            "gridcolor": "white",
            "linecolor": "white",
            "ticks": ""
           }
          },
          "scene": {
           "xaxis": {
            "backgroundcolor": "#E5ECF6",
            "gridcolor": "white",
            "gridwidth": 2,
            "linecolor": "white",
            "showbackground": true,
            "ticks": "",
            "zerolinecolor": "white"
           },
           "yaxis": {
            "backgroundcolor": "#E5ECF6",
            "gridcolor": "white",
            "gridwidth": 2,
            "linecolor": "white",
            "showbackground": true,
            "ticks": "",
            "zerolinecolor": "white"
           },
           "zaxis": {
            "backgroundcolor": "#E5ECF6",
            "gridcolor": "white",
            "gridwidth": 2,
            "linecolor": "white",
            "showbackground": true,
            "ticks": "",
            "zerolinecolor": "white"
           }
          },
          "shapedefaults": {
           "line": {
            "color": "#2a3f5f"
           }
          },
          "ternary": {
           "aaxis": {
            "gridcolor": "white",
            "linecolor": "white",
            "ticks": ""
           },
           "baxis": {
            "gridcolor": "white",
            "linecolor": "white",
            "ticks": ""
           },
           "bgcolor": "#E5ECF6",
           "caxis": {
            "gridcolor": "white",
            "linecolor": "white",
            "ticks": ""
           }
          },
          "title": {
           "x": 0.05
          },
          "xaxis": {
           "automargin": true,
           "gridcolor": "white",
           "linecolor": "white",
           "ticks": "",
           "title": {
            "standoff": 15
           },
           "zerolinecolor": "white",
           "zerolinewidth": 2
          },
          "yaxis": {
           "automargin": true,
           "gridcolor": "white",
           "linecolor": "white",
           "ticks": "",
           "title": {
            "standoff": 15
           },
           "zerolinecolor": "white",
           "zerolinewidth": 2
          }
         }
        },
        "title": {
         "text": "Interactive Scatter Plot (2021 and 2022)"
        },
        "xaxis": {
         "anchor": "y",
         "domain": [
          0,
          1
         ],
         "title": {
          "text": "Average Exit Velocity (MPH)"
         }
        },
        "yaxis": {
         "anchor": "x",
         "domain": [
          0,
          1
         ],
         "title": {
          "text": "Average Home Run (Feet)"
         }
        }
       }
      }
     },
     "metadata": {},
     "output_type": "display_data"
    }
   ],
   "source": [
    "df_filtered = df[df['year'].isin([2021, 2022])]\n",
    "\n",
    "\n",
    "print(df_filtered.columns)\n",
    "\n",
    "\n",
    "fig = px.scatter(\n",
    "    df_filtered,\n",
    "    x='average_ev',\n",
    "    y='average_homerun',\n",
    "    color='year',  \n",
    "    hover_data={\n",
    "        'player': True,           \n",
    "        'year': True,             \n",
    "        'launch_angle': True,     \n",
    "        'average_ev': True,       \n",
    "        'average_homerun': True   \n",
    "    }\n",
    ")\n",
    "\n",
    "\n",
    "fig.update_layout(\n",
    "    title='Interactive Scatter Plot (2021 and 2022)',\n",
    "    xaxis_title='Average Exit Velocity (MPH)',\n",
    "    yaxis_title='Average Home Run (Feet)'\n",
    ")\n",
    "\n",
    "\n",
    "fig.show()"
   ]
  },
  {
   "cell_type": "markdown",
   "metadata": {},
   "source": [
    "The first visualization that I would like to talk about is an interactive scatter plot. This scatter plot shows data from the 2021 and 2022 season. All the data from the 2021 season is blue, and all of the 2022 data is yellow. Since the graph is interactive, you can hover over any one of the data points and it will tell you who the player was, what year it was, what the average exit velocity was, what the average home run distance was, and what the launch angle had been when the baseball was hit. Key data points that I would like to focus on are which player had the highest average exit velocity, which player had the farhest average home run, and how those compared to the yearly average out of all the other data points. The player that had the highest average exit velocity in 2021 and actually also in 2022 was Aaron Judge. His average exit velocity in 2021 and 2022 was 95.8 Mph, which led the league in both years. The yearly average for 2021 was 89.23 Mph. This means that he had and average exit velocity of 6.57 Mph over the league average and in 2022 the league average was 89 Mph, so he was almost 7 Mph above the league avearge in that year. Then looking at the average home run distance we see that Bradley Zimmerman led the league in 2021 with an average distance of 438 feet. This more than likely means he hit only a few home runs and when he did hit home runs, he crushed the ball because an average homerun distance of 438 feet is ridiculous. Supporting that, the average home run distnace in 2021 was around 400 feet. Then if we look at 2022, Ronald Acuna Jr. had the highest average home run distance of 437 feet. 437 feet is also ridiculous because he hit 15 home runs that year. That shows how powerful a player like Ronald Acuna Jr. is. These features are just some of the few in this dataset, but they the important ones when looking at possible awards and contract negotiations. The next models will focus on average exit velocity, average home run distance, and launch angle and how they correlate."
   ]
  },
  {
   "cell_type": "code",
   "execution_count": 43,
   "metadata": {},
   "outputs": [
    {
     "name": "stdout",
     "output_type": "stream",
     "text": [
      "launch_angle        12.971552\n",
      "average_ev          89.239224\n",
      "average_homerun    399.616379\n",
      "dtype: float64\n",
      "launch_angle        12.816532\n",
      "average_ev          88.990726\n",
      "average_homerun    397.178862\n",
      "dtype: float64\n",
      "launch_angle      -0.155019\n",
      "average_ev        -0.248498\n",
      "average_homerun   -2.437518\n",
      "dtype: float64\n"
     ]
    }
   ],
   "source": [
    "data_2021 = df[df['year'] == 2021]\n",
    "data_2022 = df[df['year'] == 2022]\n",
    "\n",
    "# Calculate means for each year\n",
    "mean_2021 = data_2021[['launch_angle', 'average_ev', 'average_homerun']].mean()\n",
    "mean_2022 = data_2022[['launch_angle', 'average_ev', 'average_homerun']].mean()\n",
    "\n",
    "print(mean_2021)\n",
    "print(mean_2022)\n",
    "\n",
    "difference = mean_2022 - mean_2021\n",
    "\n",
    "print(difference)\n",
    "\n"
   ]
  },
  {
   "cell_type": "code",
   "execution_count": 44,
   "metadata": {},
   "outputs": [
    {
     "data": {
      "image/png": "[encoded data removed]",
      "text/plain": [
       "<Figure size 1000x600 with 2 Axes>"
      ]
     },
     "metadata": {},
     "output_type": "display_data"
    }
   ],
   "source": [
    "plt.figure(figsize=(10, 6))\n",
    "\n",
    "# Bar plot for means\n",
    "plt.subplot(1, 2, 1)\n",
    "mean_comparison = pd.DataFrame({'2021': mean_2021, '2022': mean_2022})\n",
    "mean_comparison.plot(kind='bar', ax=plt.gca())\n",
    "plt.title('Mean Comparison (2021 vs 2022)')\n",
    "\n",
    "# Bar plot for differences\n",
    "plt.subplot(1, 2, 2)\n",
    "difference.plot(kind='bar', ax=plt.gca(), color=['red', 'blue'])\n",
    "plt.title('Difference (2022 - 2021)')\n",
    "\n",
    "\n",
    "plt.show()"
   ]
  },
  {
   "cell_type": "markdown",
   "metadata": {},
   "source": [
    "The first model that I created compares the mean values for launch angle, average exit velocity, and average home run distance along with the differences between them from the years 2021-2022. Starting with the graph on the left. The graph on the left shows the mean comparisons of the features I focused on. The average launch angle for the 2021 MLB season was 12.97 degrees and in 2022 it was 12.82 degrees. This shows that the average launch angle decreased by .15 from 2021-2022. Now to look at the average exit velocity. In 2021 the average exit velocity was 89.24 MPH and in 2022 the average was 89 MPH. This shows that there was another decrease in statistical analysis. The average exit velocity decreased by .24 MPH from 2021-2022, which is very little but can still be significant when looking at if a player hits the ball hard enough. The last thing these models show is the average home run distance and their difference. The model shows that in 2021 the average home run distance was around 399.62 feet and in 2022 it was around 397.18 feet. This is where I see the largest difference with around 2.44 feet between 2021-2022. These models primarily show that on average a MLB player hit the ball higher, harder, and farther in the 2021 season than the 2022 baseball season.\n",
    "\n"
   ]
  },
  {
   "cell_type": "code",
   "execution_count": 89,
   "metadata": {},
   "outputs": [],
   "source": [
    "data = exit_velocity[['launch_angle', 'average_ev']].iloc[:480]\n",
    "\n",
    "# Check for missing values and clean if necessary\n",
    "data = exit_velocity.dropna() \n",
    "\n"
   ]
  },
  {
   "cell_type": "code",
   "execution_count": 90,
   "metadata": {},
   "outputs": [
    {
     "name": "stdout",
     "output_type": "stream",
     "text": [
      "Pearson correlation coefficient: 0.10\n"
     ]
    }
   ],
   "source": [
    "correlation = data['average_ev'].corr(data['launch_angle'])\n",
    "print(f'Pearson correlation coefficient: {correlation:.2f}')\n",
    "\n"
   ]
  },
  {
   "cell_type": "code",
   "execution_count": 196,
   "metadata": {},
   "outputs": [
    {
     "data": {
      "image/png": "[encoded data removed]",
      "text/plain": [
       "<Figure size 1000x600 with 1 Axes>"
      ]
     },
     "metadata": {},
     "output_type": "display_data"
    }
   ],
   "source": [
    "# Create a scatter plot\n",
    "plt.figure(figsize=(10, 6))\n",
    "sns.scatterplot(x='average_ev', y='launch_angle', data=data, color='navy')\n",
    "\n",
    "# Add labels and title\n",
    "plt.xlabel('Average Exit Velocity (mph)')\n",
    "plt.ylabel('Launch Angle (degrees)')\n",
    "plt.title('Scatter Plot: Average EV vs Launch Angle (2021 and 2022 Data)')\n",
    "plt.grid(True)\n",
    "plt.show()\n",
    "\n"
   ]
  },
  {
   "cell_type": "markdown",
   "metadata": {},
   "source": [
    "In this model I wanted to focus on the correlation between average exit velocity and average launch angle. Still only using data from the 2021 and 2022 season I found that average exit velocity and average launch angle have a very weak positive correlation.The correlation coefficient for this model was .10, SO this means that if the average exit velocity increases, the launch angle increases. This model displays that most of the data falls between 86 Mph and 92 Mph for average exit velocity and between 5 and 20 degrees for launch angle. Overall, looking at this shows that hitting the ball harder will lead to a higher angle of the ball coming off of the bat.\n"
   ]
  },
  {
   "cell_type": "code",
   "execution_count": 187,
   "metadata": {},
   "outputs": [
    {
     "data": {
      "image/png": "[encoded data removed]",
      "text/plain": [
       "<Figure size 1200x600 with 2 Axes>"
      ]
     },
     "metadata": {},
     "output_type": "display_data"
    }
   ],
   "source": [
    "plt.figure(figsize=(12, 6))\n",
    "\n",
    "plt.subplot(1, 2, 1)\n",
    "sns.scatterplot(x=data_2021['launch_angle'], y=data_2021['average_homerun'], color = 'red')\n",
    "plt.title('Launch Angle vs Average Home Run (2021)')\n",
    "plt.xlabel('Launch Angle (Degrees)')\n",
    "plt.ylabel('Average Home Run (Feet)')\n",
    "\n",
    "# Scatter plot for 2022\n",
    "plt.subplot(1, 2, 2)\n",
    "sns.scatterplot(x=data_2022['launch_angle'], y=data_2022['average_homerun'], color = 'purple')\n",
    "plt.title('Launch Angle vs Average Home Run (2022)')\n",
    "plt.xlabel('Launch Angle (Degrees)')\n",
    "plt.ylabel('Average Home Run (Feet)')\n",
    "\n",
    "plt.tight_layout()\n",
    "plt.show()\n"
   ]
  },
  {
   "cell_type": "markdown",
   "metadata": {},
   "source": [
    "The next model I created focuses on the same 2021 and 2022 data points but it splits the years up into separate scatterplots. These two scatterplots show the correlation between launch angle and the average distance of home runs. First looking at the 2021 model. Most of the data points lie between 5 and 20 degrees for launch angle and between 380 and 420 feet for the average home run distance. The 2021 model seems to show a slight positive correlation between these features as we see more of an incline type shape of the data points appear. This supports that if you see a higher launch angle off of the bat, the further the homer run was during the 2021 season. Now looking at the 2022 model, we see a lesser correlation. Most of the data lies between 5 and 25 degerees for launch angle and 380 and 400 feet for average home run distance. Looking at the 2022 model we see more of a straighter line shape made by the data points thus proving are argument that there is a weak correlation between these features. In the 2022 season the baseball came off of the bat at a lower angle, and lead to shorter home run distances."
   ]
  },
  {
   "cell_type": "code",
   "execution_count": 172,
   "metadata": {},
   "outputs": [
    {
     "data": {
      "image/png": "[encoded data removed]",
      "text/plain": [
       "<Figure size 1200x600 with 2 Axes>"
      ]
     },
     "metadata": {},
     "output_type": "display_data"
    }
   ],
   "source": [
    "plt.figure(figsize=(12, 6))\n",
    "\n",
    "plt.subplot(1, 2, 1)\n",
    "sns.scatterplot(x=data_2021['average_ev'], y=data_2021['average_homerun'], color = 'gold')\n",
    "plt.title('Average Exit Velocity vs Average Home Run (2021)')\n",
    "plt.xlabel('Average Exit Velocity(MPH)')\n",
    "plt.ylabel('Average Home Run (Feet)')\n",
    "\n",
    "# Scatter plot for 2022\n",
    "plt.subplot(1, 2, 2)\n",
    "sns.scatterplot(x=data_2022['average_ev'], y=data_2022['average_homerun'], color = 'darkcyan')\n",
    "plt.title('Average Exit Velocity vs Average Home Run (2022)')\n",
    "plt.xlabel('Average Exit Velocity (MPH)')\n",
    "plt.ylabel('Average Home Run (Feet)')\n",
    "\n",
    "plt.tight_layout()\n",
    "plt.show()"
   ]
  },
  {
   "cell_type": "markdown",
   "metadata": {},
   "source": [
    "Finally, this model takes the same data from the 2021 and 2022 season and focuses on the correlation between average exit velocity and average home run distance. Creating two plots will help show the correlation for the separate seasons. First focusing on the 2021 plot. We see that most of the data points fall between 84 and 94 Mph for average exit velocity and between 380 and 410 feet for average home run distance. Looking at the shape of the data we notice a diagnol shape trending up. This shows that these two features have a positive correlation with the exception of a few outliers, so that when average exit velocity rises, the average home run distance is further. Then looking at the 2022 plot most of the data points fall between 86 and 92 Mph for average exit velocity and between 380 and 420 feet for average home run distance. Along with the 2021 model, we see another positive correlation connecting these features by looking at the inclining shape of the plot. Overall, both of these models demonstrate that when average exit velocity increases, we see farther home runs hit."
   ]
  },
  {
   "cell_type": "markdown",
   "metadata": {},
   "source": []
  }
 ],
 "metadata": {
  "kernelspec": {
   "display_name": "Python 3 (ipykernel)",
   "language": "python",
   "name": "python3"
  },
  "language_info": {
   "codemirror_mode": {
    "name": "ipython",
    "version": 3
   },
   "file_extension": ".py",
   "mimetype": "text/x-python",
   "name": "python",
   "nbconvert_exporter": "python",
   "pygments_lexer": "ipython3",
   "version": "3.12.4"
  }
 },
 "nbformat": 4,
 "nbformat_minor": 4
}
